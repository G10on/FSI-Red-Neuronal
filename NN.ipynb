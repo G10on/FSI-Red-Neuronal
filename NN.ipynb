{
  "cells": [
    {
      "cell_type": "code",
      "execution_count": 1,
      "metadata": {
        "colab": {
          "base_uri": "https://localhost:8080/"
        },
        "id": "iCiYhdHA8-ev",
        "outputId": "6f357651-f4f8-4c27-b5dc-8813eff76ec8"
      },
      "outputs": [
        {
          "output_type": "stream",
          "name": "stdout",
          "text": [
            "Downloading...\n",
            "From: https://drive.google.com/uc?id=1-ySD5q7lZwgjsYHdbPgbqM7bff0M5MGB\n",
            "To: /content/EuroSAT_dataset.zip\n",
            "100% 69.8M/69.8M [00:00<00:00, 192MB/s]\n"
          ]
        }
      ],
      "source": [
        "\"\"\"\n",
        "  Only execute the commented code in Google Colaboratory to download the dataset in a zip file\n",
        "\"\"\"\n",
        "! gdown --id 1-ySD5q7lZwgjsYHdbPgbqM7bff0M5MGB\n",
        "from zipfile import ZipFile\n",
        "with ZipFile(\"/content/EuroSAT_dataset.zip\", 'r') as zip:\n",
        "  zip.extractall(\"/content/dataset\")"
      ]
    },
    {
      "cell_type": "code",
      "execution_count": 2,
      "metadata": {
        "id": "lH-2VCDZ8hfb"
      },
      "outputs": [],
      "source": [
        "from tensorflow.keras.preprocessing.image import ImageDataGenerator\n",
        "from tensorflow.keras.models import Sequential\n",
        "from tensorflow.keras.layers import Dense, Dropout\n",
        "from tensorflow.keras.layers import Dense, Dropout, Flatten\n",
        "from tensorflow.keras.layers import Conv2D, MaxPooling2D\n",
        "from keras.callbacks import EarlyStopping\n",
        "import tensorflow.keras\n",
        "\n",
        "from matplotlib import pyplot as plt\n",
        "import numpy as np"
      ]
    },
    {
      "cell_type": "code",
      "execution_count": 19,
      "metadata": {
        "id": "J3p5z8U98hfs"
      },
      "outputs": [],
      "source": [
        "size = 64\n",
        "batch_size = 20\n",
        "base_dir = \"/content/dataset/EuroSAT_dataset\"\n",
        "\n",
        "train_data_dir = base_dir\n",
        "validation_data_dir = train_data_dir\n",
        "LABELS = [\"AnnualCrop\", \"Forest\", \"HerbaceousVegetation\", \"Highway\", \"Industrial\", \"Pasture\", \"PermanentCrop\", \"Residential\", \"River\", \"SeaLake\"]"
      ]
    },
    {
      "cell_type": "code",
      "execution_count": 20,
      "metadata": {
        "colab": {
          "base_uri": "https://localhost:8080/"
        },
        "id": "9br4CbOn8hfy",
        "outputId": "055f51dd-18f0-4ea9-d0c8-cf350169dd78"
      },
      "outputs": [
        {
          "output_type": "stream",
          "name": "stdout",
          "text": [
            "Found 16000 images belonging to 10 classes.\n",
            "Found 4000 images belonging to 10 classes.\n"
          ]
        }
      ],
      "source": [
        "# DATA SOURCE --------------------------------------------------\n",
        "\n",
        "train_datagen = ImageDataGenerator(\n",
        "        validation_split = 0.2,\n",
        "        rescale=1./255,\n",
        "        rotation_range = 180,\n",
        "        zoom_range = 0.15,\n",
        "        horizontal_flip = True\n",
        ")\n",
        "\n",
        "train_generator = train_datagen.flow_from_directory(\n",
        "        train_data_dir,\n",
        "        target_size=(size, size),\n",
        "        batch_size=batch_size,\n",
        "        class_mode='categorical',\n",
        "        subset = \"training\",\n",
        "        classes = LABELS,\n",
        "        seed = 2022\n",
        ")\n",
        "\n",
        "validation_datagen = ImageDataGenerator(\n",
        "        validation_split = 0.2,\n",
        "        rescale=1./255\n",
        ")\n",
        "\n",
        "validation_generator = validation_datagen.flow_from_directory(\n",
        "        validation_data_dir,\n",
        "        target_size=(size, size),\n",
        "        batch_size=batch_size,\n",
        "        class_mode='categorical',\n",
        "        subset = \"validation\",\n",
        "        classes = LABELS,\n",
        "        seed = 2022\n",
        ")"
      ]
    },
    {
      "cell_type": "code",
      "execution_count": 21,
      "metadata": {
        "colab": {
          "base_uri": "https://localhost:8080/",
          "height": 268
        },
        "id": "Uey-lAdd8hf1",
        "outputId": "479cade3-a626-4c5f-ed4a-4b69ef6a8675"
      },
      "outputs": [
        {
          "output_type": "display_data",
          "data": {
            "image/png": "[encoded data removed]",
            "text/plain": [
              "<Figure size 432x288 with 1 Axes>"
            ]
          },
          "metadata": {
            "needs_background": "light"
          }
        }
      ],
      "source": [
        "# Visualization of the last image of the first batch\n",
        "image = np.array(train_generator[0][0][7], dtype='float')\n",
        "plt.imshow(image)\n",
        "plt.show()"
      ]
    },
    {
      "cell_type": "code",
      "execution_count": 24,
      "metadata": {
        "id": "JM23vlom8hf3"
      },
      "outputs": [],
      "source": [
        "# MODEL --------------------------------------------------\n",
        "\n",
        "model = Sequential()\n",
        "model.add(Conv2D(32, kernel_size=(3, 3),\n",
        "                 activation='relu',\n",
        "                 input_shape=(size, size, 3)))\n",
        "model.add(MaxPooling2D(pool_size=(2, 2)))\n",
        "model.add(Conv2D(128, (3, 3), activation='relu'))\n",
        "model.add(MaxPooling2D(pool_size=(2, 2)))\n",
        "model.add(Conv2D(96, (3, 3), activation='relu'))\n",
        "model.add(Conv2D(64, (5, 5), activation='relu'))\n",
        "# model.add(Dropout(0.05))\n",
        "\n",
        "model.add(Flatten())\n",
        "# model.add(Dense(128, activation='relu'))\n",
        "model.add(Dense(64, activation='relu'))\n",
        "# model.add(Dropout(0.5))\n",
        "model.add(Dense(96, activation='relu'))\n",
        "model.add(Dense(64, activation='relu'))\n",
        "model.add(Dense(32, activation='relu'))\n",
        "# model.add(Dropout(0.1))\n",
        "model.add(Dense(10, activation='softmax'))\n",
        "\n",
        "model.compile(loss=tensorflow.keras.losses.categorical_crossentropy,\n",
        "              optimizer=tensorflow.keras.optimizers.Adadelta(learning_rate=0.5),\n",
        "              metrics=['accuracy'])"
      ]
    },
    {
      "cell_type": "code",
      "execution_count": 25,
      "metadata": {
        "colab": {
          "base_uri": "https://localhost:8080/"
        },
        "id": "U91bXt8a8hf4",
        "outputId": "17b9a714-2f1e-4388-d536-619e2a4cf438"
      },
      "outputs": [
        {
          "output_type": "stream",
          "name": "stdout",
          "text": [
            "Epoch 1/25\n",
            "1067/1067 [==============================] - 43s 40ms/step - loss: 1.6723 - accuracy: 0.3422 - val_loss: 1.1889 - val_accuracy: 0.5727\n",
            "Epoch 2/25\n",
            "1067/1067 [==============================] - 42s 39ms/step - loss: 1.0693 - accuracy: 0.6141 - val_loss: 0.8823 - val_accuracy: 0.6840\n",
            "Epoch 3/25\n",
            "1067/1067 [==============================] - 42s 39ms/step - loss: 0.8602 - accuracy: 0.6833 - val_loss: 0.8313 - val_accuracy: 0.6913\n",
            "Epoch 4/25\n",
            "1067/1067 [==============================] - 42s 39ms/step - loss: 0.7442 - accuracy: 0.7278 - val_loss: 0.8387 - val_accuracy: 0.6898\n",
            "Epoch 5/25\n",
            "1067/1067 [==============================] - 41s 39ms/step - loss: 0.6721 - accuracy: 0.7592 - val_loss: 0.8411 - val_accuracy: 0.7017\n",
            "Epoch 6/25\n",
            "1067/1067 [==============================] - 40s 38ms/step - loss: 0.6173 - accuracy: 0.7804 - val_loss: 0.5434 - val_accuracy: 0.8048\n",
            "Epoch 7/25\n",
            "1067/1067 [==============================] - 40s 37ms/step - loss: 0.5619 - accuracy: 0.7980 - val_loss: 0.5259 - val_accuracy: 0.8127\n",
            "Epoch 8/25\n",
            "1067/1067 [==============================] - 39s 37ms/step - loss: 0.5191 - accuracy: 0.8184 - val_loss: 0.4894 - val_accuracy: 0.8322\n",
            "Epoch 9/25\n",
            "1067/1067 [==============================] - 39s 37ms/step - loss: 0.4780 - accuracy: 0.8320 - val_loss: 0.4188 - val_accuracy: 0.8572\n",
            "Epoch 10/25\n",
            "1067/1067 [==============================] - 39s 37ms/step - loss: 0.4528 - accuracy: 0.8428 - val_loss: 0.6201 - val_accuracy: 0.7933\n",
            "Epoch 11/25\n",
            "1067/1067 [==============================] - 39s 37ms/step - loss: 0.4162 - accuracy: 0.8580 - val_loss: 0.3825 - val_accuracy: 0.8763\n",
            "Epoch 12/25\n",
            "1067/1067 [==============================] - 39s 37ms/step - loss: 0.3926 - accuracy: 0.8641 - val_loss: 0.4120 - val_accuracy: 0.8710\n",
            "Epoch 13/25\n",
            "1067/1067 [==============================] - 40s 37ms/step - loss: 0.3690 - accuracy: 0.8734 - val_loss: 0.5459 - val_accuracy: 0.8158\n",
            "Epoch 14/25\n",
            "1067/1067 [==============================] - 40s 38ms/step - loss: 0.3595 - accuracy: 0.8790 - val_loss: 0.3003 - val_accuracy: 0.8938\n",
            "Epoch 15/25\n",
            "1067/1067 [==============================] - 40s 38ms/step - loss: 0.3354 - accuracy: 0.8858 - val_loss: 0.3502 - val_accuracy: 0.8840\n",
            "Epoch 16/25\n",
            "1067/1067 [==============================] - 41s 38ms/step - loss: 0.3230 - accuracy: 0.8925 - val_loss: 0.5167 - val_accuracy: 0.8292\n",
            "Epoch 17/25\n",
            "1067/1067 [==============================] - 40s 38ms/step - loss: 0.3112 - accuracy: 0.8966 - val_loss: 0.3226 - val_accuracy: 0.8885\n",
            "Epoch 18/25\n",
            "1067/1067 [==============================] - 40s 38ms/step - loss: 0.3040 - accuracy: 0.9009 - val_loss: 0.3121 - val_accuracy: 0.8995\n",
            "Epoch 19/25\n",
            "1067/1067 [==============================] - 40s 37ms/step - loss: 0.2958 - accuracy: 0.9013 - val_loss: 0.4394 - val_accuracy: 0.8715\n",
            "Epoch 20/25\n",
            "1067/1067 [==============================] - 40s 37ms/step - loss: 0.2859 - accuracy: 0.9053 - val_loss: 0.2938 - val_accuracy: 0.9155\n",
            "Epoch 21/25\n",
            "1067/1067 [==============================] - 40s 37ms/step - loss: 0.2779 - accuracy: 0.9081 - val_loss: 0.3784 - val_accuracy: 0.8790\n",
            "Epoch 22/25\n",
            "1067/1067 [==============================] - 40s 37ms/step - loss: 0.2668 - accuracy: 0.9137 - val_loss: 0.2881 - val_accuracy: 0.9195\n",
            "Epoch 23/25\n",
            "1067/1067 [==============================] - 40s 37ms/step - loss: 0.2606 - accuracy: 0.9129 - val_loss: 0.2968 - val_accuracy: 0.9143\n",
            "Epoch 24/25\n",
            "1067/1067 [==============================] - 40s 37ms/step - loss: 0.2611 - accuracy: 0.9135 - val_loss: 0.2933 - val_accuracy: 0.9168\n",
            "Epoch 25/25\n",
            "1067/1067 [==============================] - 39s 37ms/step - loss: 0.2633 - accuracy: 0.9149 - val_loss: 0.2674 - val_accuracy: 0.9085\n"
          ]
        }
      ],
      "source": [
        "# TRAINING --------------------------------------------------\n",
        "\n",
        "epochs = 25\n",
        "\n",
        "early_stop = EarlyStopping(monitor='val_accuracy', mode='max', verbose=1, patience=8, restore_best_weights=True)\n",
        "\n",
        "histogram = model.fit(\n",
        "        train_generator,\n",
        "        validation_data = validation_generator,\n",
        "        epochs=epochs,\n",
        "        callbacks = [early_stop]\n",
        ")"
      ]
    },
    {
      "cell_type": "code",
      "execution_count": 26,
      "metadata": {
        "id": "QA082GH98hf6",
        "colab": {
          "base_uri": "https://localhost:8080/",
          "height": 297
        },
        "outputId": "eb8914ba-b9db-4878-df9b-afc6dc75f439"
      },
      "outputs": [
        {
          "output_type": "display_data",
          "data": {
            "image/png": "[encoded data removed]",
            "text/plain": [
              "<Figure size 432x288 with 1 Axes>"
            ]
          },
          "metadata": {
            "needs_background": "light"
          }
        }
      ],
      "source": [
        "# VISUALIZATION OF TRAINING METRICS --------------------------------------------------\n",
        "\n",
        "plt.plot(histogram.history['accuracy'], label='accuracy')\n",
        "plt.plot(histogram.history['val_accuracy'], label='validation accuracy')\n",
        "plt.plot(histogram.history['loss'], label='loss')\n",
        "\n",
        "plt.title('Imágenes Satélite')\n",
        "plt.xlabel('Épocas')\n",
        "plt.legend(loc=\"lower right\")\n",
        "\n",
        "plt.show()"
      ]
    }
  ],
  "metadata": {
    "accelerator": "GPU",
    "colab": {
      "collapsed_sections": [],
      "name": "EuroSAT.ipynb",
      "provenance": []
    },
    "kernelspec": {
      "display_name": "Python 3",
      "language": "python",
      "name": "python3"
    },
    "language_info": {
      "codemirror_mode": {
        "name": "ipython",
        "version": 3
      },
      "file_extension": ".py",
      "mimetype": "text/x-python",
      "name": "python",
      "nbconvert_exporter": "python",
      "pygments_lexer": "ipython3",
      "version": "3.7.12"
    }
  },
  "nbformat": 4,
  "nbformat_minor": 0
}