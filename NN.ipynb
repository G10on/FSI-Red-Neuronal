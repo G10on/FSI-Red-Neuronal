{
  "cells": [
    {
      "cell_type": "code",
      "execution_count": 1,
      "metadata": {
        "colab": {
          "base_uri": "https://localhost:8080/"
        },
        "id": "iCiYhdHA8-ev",
        "outputId": "6f357651-f4f8-4c27-b5dc-8813eff76ec8"
      },
      "outputs": [
        {
          "output_type": "stream",
          "name": "stdout",
          "text": [
            "Downloading...\n",
            "From: https://drive.google.com/uc?id=1-ySD5q7lZwgjsYHdbPgbqM7bff0M5MGB\n",
            "To: /content/EuroSAT_dataset.zip\n",
            "100% 69.8M/69.8M [00:00<00:00, 192MB/s]\n"
          ]
        }
      ],
      "source": [
        "\"\"\"\n",
        "  Only execute the commented code in Google Colaboratory to download the dataset in a zip file\n",
        "\"\"\"\n",
        "! gdown --id 1-ySD5q7lZwgjsYHdbPgbqM7bff0M5MGB\n",
        "from zipfile import ZipFile\n",
        "with ZipFile(\"/content/EuroSAT_dataset.zip\", 'r') as zip:\n",
        "  zip.extractall(\"/content/dataset\")"
      ]
    },
    {
      "cell_type": "code",
      "execution_count": 2,
      "metadata": {
        "id": "lH-2VCDZ8hfb"
      },
      "outputs": [],
      "source": [
        "from tensorflow.keras.preprocessing.image import ImageDataGenerator\n",
        "from tensorflow.keras.models import Sequential\n",
        "from tensorflow.keras.layers import Dense, Dropout\n",
        "from tensorflow.keras.layers import Dense, Dropout, Flatten\n",
        "from tensorflow.keras.layers import Conv2D, MaxPooling2D\n",
        "from keras.callbacks import EarlyStopping\n",
        "import tensorflow.keras\n",
        "\n",
        "from matplotlib import pyplot as plt\n",
        "import numpy as np"
      ]
    },
    {
      "cell_type": "code",
      "execution_count": 8,
      "metadata": {
        "id": "J3p5z8U98hfs"
      },
      "outputs": [],
      "source": [
        "size = 64\n",
        "batch_size = 15\n",
        "base_dir = \"/content/dataset/EuroSAT_dataset\"\n",
        "\n",
        "train_data_dir = base_dir\n",
        "validation_data_dir = train_data_dir\n",
        "LABELS = [\"AnnualCrop\", \"Forest\", \"HerbaceousVegetation\", \"Highway\", \"Industrial\", \"Pasture\", \"PermanentCrop\", \"Residential\", \"River\", \"SeaLake\"]\n",
        "# LABELS = [\"Forest\", \"HerbaceousVegetation\", \"Highway\", \"Industrial\", \"Pasture\", \"Residential\", \"River\"]"
      ]
    },
    {
      "cell_type": "code",
      "execution_count": 9,
      "metadata": {
        "colab": {
          "base_uri": "https://localhost:8080/"
        },
        "id": "9br4CbOn8hfy",
        "outputId": "182de66c-38b2-4dc8-938a-21c08d736140"
      },
      "outputs": [
        {
          "output_type": "stream",
          "name": "stdout",
          "text": [
            "Found 16000 images belonging to 10 classes.\n",
            "Found 4000 images belonging to 10 classes.\n"
          ]
        }
      ],
      "source": [
        "# DATA SOURCE --------------------------------------------------\n",
        "\n",
        "train_datagen = ImageDataGenerator(\n",
        "        validation_split = 0.2,\n",
        "        rescale=1./255,\n",
        "        rotation_range = 180,\n",
        "        horizontal_flip = True\n",
        ")\n",
        "\n",
        "train_generator = train_datagen.flow_from_directory(\n",
        "        train_data_dir,\n",
        "        target_size=(size, size),\n",
        "        batch_size=batch_size,\n",
        "        class_mode='categorical',\n",
        "        subset = \"training\",\n",
        "        classes = LABELS,\n",
        "        seed = 2022\n",
        ")\n",
        "\n",
        "validation_datagen = ImageDataGenerator(\n",
        "        validation_split = 0.2,\n",
        "        rescale=1./255\n",
        ")\n",
        "\n",
        "validation_generator = validation_datagen.flow_from_directory(\n",
        "        validation_data_dir,\n",
        "        target_size=(size, size),\n",
        "        batch_size=batch_size,\n",
        "        class_mode='categorical',\n",
        "        subset = \"validation\",\n",
        "        classes = LABELS,\n",
        "        seed = 2022\n",
        ")"
      ]
    },
    {
      "cell_type": "code",
      "execution_count": 10,
      "metadata": {
        "colab": {
          "base_uri": "https://localhost:8080/",
          "height": 268
        },
        "id": "Uey-lAdd8hf1",
        "outputId": "bd85ddc7-7df6-4897-b188-eccac8aaa673"
      },
      "outputs": [
        {
          "output_type": "display_data",
          "data": {
            "image/png": "[encoded data removed]",
            "text/plain": [
              "<Figure size 432x288 with 1 Axes>"
            ]
          },
          "metadata": {
            "needs_background": "light"
          }
        }
      ],
      "source": [
        "# Visualization of the last image of the first batch\n",
        "image = np.array(train_generator[0][0][7], dtype='float')\n",
        "plt.imshow(image)\n",
        "plt.show()"
      ]
    },
    {
      "cell_type": "code",
      "execution_count": 11,
      "metadata": {
        "id": "JM23vlom8hf3"
      },
      "outputs": [],
      "source": [
        "# MODEL --------------------------------------------------\n",
        "\n",
        "model = Sequential()\n",
        "model.add(Conv2D(128, kernel_size=(3, 3),\n",
        "                 activation='relu',\n",
        "                 input_shape=(size, size, 3)))\n",
        "model.add(MaxPooling2D(pool_size=(2, 2)))\n",
        "model.add(Conv2D(160, (5, 5), activation='relu'))\n",
        "model.add(MaxPooling2D(pool_size=(2, 2)))\n",
        "model.add(Conv2D(96, (3, 3), activation='relu'))\n",
        "model.add(Conv2D(256, (5, 5), activation='relu'))\n",
        "# model.add(Dropout(0.05))\n",
        "\n",
        "model.add(Flatten())\n",
        "# model.add(Dense(128, activation='relu'))\n",
        "model.add(Dense(96, activation='relu'))\n",
        "# model.add(Dropout(0.5))\n",
        "model.add(Dense(128, activation='relu'))\n",
        "model.add(Dense(32, activation='relu'))\n",
        "# model.add(Dropout(0.1))\n",
        "model.add(Dense(10, activation='softmax'))\n",
        "\n",
        "model.compile(loss=tensorflow.keras.losses.categorical_crossentropy,\n",
        "              optimizer=tensorflow.keras.optimizers.Adadelta(learning_rate=0.7),\n",
        "              metrics=['accuracy'])"
      ]
    },
    {
      "cell_type": "code",
      "execution_count": 12,
      "metadata": {
        "colab": {
          "base_uri": "https://localhost:8080/"
        },
        "id": "U91bXt8a8hf4",
        "outputId": "fe8d923f-9610-4c5e-8517-87eaaec8fa1d"
      },
      "outputs": [
        {
          "output_type": "stream",
          "name": "stdout",
          "text": [
            "Epoch 1/25\n",
            "1067/1067 [==============================] - 47s 42ms/step - loss: 1.8381 - accuracy: 0.2758 - val_loss: 1.5081 - val_accuracy: 0.4013\n",
            "Epoch 2/25\n",
            "1067/1067 [==============================] - 45s 42ms/step - loss: 1.3618 - accuracy: 0.5042 - val_loss: 1.0658 - val_accuracy: 0.6217\n",
            "Epoch 3/25\n",
            "1067/1067 [==============================] - 44s 41ms/step - loss: 1.0823 - accuracy: 0.6205 - val_loss: 1.4057 - val_accuracy: 0.5230\n",
            "Epoch 4/25\n",
            "1067/1067 [==============================] - 45s 42ms/step - loss: 0.9480 - accuracy: 0.6674 - val_loss: 0.8958 - val_accuracy: 0.7070\n",
            "Epoch 5/25\n",
            "1067/1067 [==============================] - 44s 41ms/step - loss: 0.8444 - accuracy: 0.7070 - val_loss: 0.7192 - val_accuracy: 0.7377\n",
            "Epoch 6/25\n",
            "1067/1067 [==============================] - 44s 42ms/step - loss: 0.7852 - accuracy: 0.7296 - val_loss: 0.7182 - val_accuracy: 0.7530\n",
            "Epoch 7/25\n",
            "1067/1067 [==============================] - 43s 41ms/step - loss: 0.7120 - accuracy: 0.7560 - val_loss: 0.7694 - val_accuracy: 0.7520\n",
            "Epoch 8/25\n",
            "1067/1067 [==============================] - 43s 41ms/step - loss: 0.6790 - accuracy: 0.7721 - val_loss: 0.5931 - val_accuracy: 0.8018\n",
            "Epoch 9/25\n",
            "1067/1067 [==============================] - 44s 41ms/step - loss: 0.6295 - accuracy: 0.7893 - val_loss: 0.6190 - val_accuracy: 0.7887\n",
            "Epoch 10/25\n",
            "1067/1067 [==============================] - 45s 42ms/step - loss: 0.6063 - accuracy: 0.7941 - val_loss: 0.6256 - val_accuracy: 0.7952\n",
            "Epoch 11/25\n",
            "1067/1067 [==============================] - 45s 42ms/step - loss: 0.5745 - accuracy: 0.8134 - val_loss: 0.4545 - val_accuracy: 0.8497\n",
            "Epoch 12/25\n",
            "1067/1067 [==============================] - 43s 41ms/step - loss: 0.5367 - accuracy: 0.8275 - val_loss: 1.0170 - val_accuracy: 0.7215\n",
            "Epoch 13/25\n",
            "1067/1067 [==============================] - 44s 41ms/step - loss: 0.5162 - accuracy: 0.8347 - val_loss: 0.4265 - val_accuracy: 0.8662\n",
            "Epoch 14/25\n",
            "1067/1067 [==============================] - 44s 41ms/step - loss: 0.4965 - accuracy: 0.8394 - val_loss: 0.4778 - val_accuracy: 0.8435\n",
            "Epoch 15/25\n",
            "1067/1067 [==============================] - 43s 40ms/step - loss: 0.4703 - accuracy: 0.8497 - val_loss: 0.4068 - val_accuracy: 0.8798\n",
            "Epoch 16/25\n",
            "1067/1067 [==============================] - 44s 41ms/step - loss: 0.4515 - accuracy: 0.8577 - val_loss: 0.4632 - val_accuracy: 0.8577\n",
            "Epoch 17/25\n",
            "1067/1067 [==============================] - 46s 43ms/step - loss: 0.4377 - accuracy: 0.8642 - val_loss: 0.6318 - val_accuracy: 0.8010\n",
            "Epoch 18/25\n",
            "1067/1067 [==============================] - 46s 43ms/step - loss: 0.4215 - accuracy: 0.8696 - val_loss: 0.4974 - val_accuracy: 0.8418\n",
            "Epoch 19/25\n",
            "1067/1067 [==============================] - 45s 42ms/step - loss: 0.4116 - accuracy: 0.8746 - val_loss: 0.3298 - val_accuracy: 0.8920\n",
            "Epoch 20/25\n",
            "1067/1067 [==============================] - 45s 42ms/step - loss: 0.3974 - accuracy: 0.8767 - val_loss: 0.3893 - val_accuracy: 0.8790\n",
            "Epoch 21/25\n",
            "1067/1067 [==============================] - 45s 42ms/step - loss: 0.3967 - accuracy: 0.8792 - val_loss: 0.5243 - val_accuracy: 0.8475\n",
            "Epoch 22/25\n",
            "1067/1067 [==============================] - 44s 41ms/step - loss: 0.3848 - accuracy: 0.8834 - val_loss: 0.3556 - val_accuracy: 0.8895\n",
            "Epoch 23/25\n",
            "1067/1067 [==============================] - 44s 41ms/step - loss: 0.3777 - accuracy: 0.8876 - val_loss: 0.4540 - val_accuracy: 0.8630\n",
            "Epoch 24/25\n",
            "1067/1067 [==============================] - 44s 41ms/step - loss: 0.3728 - accuracy: 0.8861 - val_loss: 0.3737 - val_accuracy: 0.8813\n",
            "Epoch 25/25\n",
            "1067/1067 [==============================] - 43s 41ms/step - loss: 0.3693 - accuracy: 0.8893 - val_loss: 0.4539 - val_accuracy: 0.8430\n"
          ]
        }
      ],
      "source": [
        "# TRAINING --------------------------------------------------\n",
        "\n",
        "epochs = 25\n",
        "\n",
        "early_stop = EarlyStopping(monitor='val_accuracy', mode='max', verbose=1, patience=8, restore_best_weights=True)\n",
        "\n",
        "histogram = model.fit(\n",
        "        train_generator,\n",
        "        validation_data = validation_generator,\n",
        "        epochs=epochs,\n",
        "        callbacks = [early_stop]\n",
        ")"
      ]
    },
    {
      "cell_type": "code",
      "execution_count": 13,
      "metadata": {
        "id": "QA082GH98hf6",
        "colab": {
          "base_uri": "https://localhost:8080/",
          "height": 297
        },
        "outputId": "efa28db9-862d-4b67-ebc1-c8e515aa6844"
      },
      "outputs": [
        {
          "output_type": "display_data",
          "data": {
            "image/png": "[encoded data removed]",
            "text/plain": [
              "<Figure size 432x288 with 1 Axes>"
            ]
          },
          "metadata": {
            "needs_background": "light"
          }
        }
      ],
      "source": [
        "# VISUALIZATION OF TRAINING METRICS --------------------------------------------------\n",
        "\n",
        "plt.plot(histogram.history['accuracy'], label='accuracy')\n",
        "plt.plot(histogram.history['val_accuracy'], label='validation accuracy')\n",
        "plt.plot(histogram.history['loss'], label='loss')\n",
        "\n",
        "plt.title('Imágenes Satélite')\n",
        "plt.xlabel('Épocas')\n",
        "plt.legend(loc=\"lower right\")\n",
        "\n",
        "plt.show()"
      ]
    }
  ],
  "metadata": {
    "accelerator": "GPU",
    "colab": {
      "collapsed_sections": [],
      "name": "EuroSAT.ipynb",
      "provenance": []
    },
    "kernelspec": {
      "display_name": "Python 3",
      "language": "python",
      "name": "python3"
    },
    "language_info": {
      "codemirror_mode": {
        "name": "ipython",
        "version": 3
      },
      "file_extension": ".py",
      "mimetype": "text/x-python",
      "name": "python",
      "nbconvert_exporter": "python",
      "pygments_lexer": "ipython3",
      "version": "3.7.12"
    }
  },
  "nbformat": 4,
  "nbformat_minor": 0
}