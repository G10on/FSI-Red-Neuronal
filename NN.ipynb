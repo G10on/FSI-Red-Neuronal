{
  "cells": [
    {
      "cell_type": "code",
      "execution_count": 1,
      "metadata": {
        "colab": {
          "base_uri": "https://localhost:8080/"
        },
        "id": "iCiYhdHA8-ev",
        "outputId": "048dd632-13eb-44dc-8d0e-10ca4fb1c583"
      },
      "outputs": [
        {
          "output_type": "stream",
          "name": "stdout",
          "text": [
            "Downloading...\n",
            "From: https://drive.google.com/uc?id=1-ySD5q7lZwgjsYHdbPgbqM7bff0M5MGB\n",
            "To: /content/EuroSAT_dataset.zip\n",
            "100% 69.8M/69.8M [00:00<00:00, 190MB/s]\n"
          ]
        }
      ],
      "source": [
        "\"\"\"\n",
        "  Only execute the commented code in Google Colaboratory to download the dataset in a zip file\n",
        "\"\"\"\n",
        "# ! gdown --id 1-ySD5q7lZwgjsYHdbPgbqM7bff0M5MGB\n",
        "# from zipfile import ZipFile\n",
        "# with ZipFile(\"/content/EuroSAT_dataset.zip\", 'r') as zip:\n",
        "#   zip.extractall(\"/content/dataset\")"
      ]
    },
    {
      "cell_type": "code",
      "execution_count": 2,
      "metadata": {
        "id": "lH-2VCDZ8hfb"
      },
      "outputs": [],
      "source": [
        "from tensorflow.keras.preprocessing.image import ImageDataGenerator\n",
        "from tensorflow.keras.models import Sequential\n",
        "from tensorflow.keras.layers import Dense, Dropout\n",
        "from tensorflow.keras.layers import Dense, Dropout, Flatten\n",
        "from tensorflow.keras.layers import Conv2D, MaxPooling2D\n",
        "from keras.callbacks import EarlyStopping\n",
        "import tensorflow.keras\n",
        "\n",
        "from matplotlib import pyplot as plt\n",
        "import numpy as np"
      ]
    },
    {
      "cell_type": "code",
      "execution_count": 44,
      "metadata": {
        "id": "J3p5z8U98hfs"
      },
      "outputs": [],
      "source": [
        "size = 64\n",
        "batch_size = 15\n",
        "base_dir = \"/content/dataset/EuroSAT_dataset\"\n",
        "\n",
        "train_data_dir = base_dir\n",
        "validation_data_dir = train_data_dir\n",
        "LABELS = [\"AnnualCrop\", \"Forest\", \"HerbaceousVegetation\", \"Highway\", \"Industrial\", \"Pasture\", \"PermanentCrop\", \"Residential\", \"River\", \"SeaLake\"]"
      ]
    },
    {
      "cell_type": "code",
      "execution_count": 45,
      "metadata": {
        "colab": {
          "base_uri": "https://localhost:8080/"
        },
        "id": "9br4CbOn8hfy",
        "outputId": "ae90d55d-bddc-42d1-d93a-efb486c94cf5"
      },
      "outputs": [
        {
          "output_type": "stream",
          "name": "stdout",
          "text": [
            "Found 16000 images belonging to 10 classes.\n",
            "Found 4000 images belonging to 10 classes.\n"
          ]
        }
      ],
      "source": [
        "# DATA SOURCE --------------------------------------------------\n",
        "\n",
        "train_datagen = ImageDataGenerator(\n",
        "        validation_split = 0.2,\n",
        "        rescale=1./255,\n",
        "        rotation_range = 180,\n",
        "        zoom_range = 0.15,\n",
        "        horizontal_flip = True\n",
        ")\n",
        "\n",
        "train_generator = train_datagen.flow_from_directory(\n",
        "        train_data_dir,\n",
        "        target_size=(size, size),\n",
        "        batch_size=batch_size,\n",
        "        class_mode='categorical',\n",
        "        subset = \"training\",\n",
        "        classes = LABELS,\n",
        "        seed = 2022\n",
        ")\n",
        "\n",
        "validation_datagen = ImageDataGenerator(\n",
        "        validation_split = 0.2,\n",
        "        rescale=1./255\n",
        ")\n",
        "\n",
        "validation_generator = validation_datagen.flow_from_directory(\n",
        "        validation_data_dir,\n",
        "        target_size=(size, size),\n",
        "        batch_size=batch_size,\n",
        "        class_mode='categorical',\n",
        "        subset = \"validation\",\n",
        "        classes = LABELS,\n",
        "        seed = 2022\n",
        ")"
      ]
    },
    {
      "cell_type": "code",
      "execution_count": 46,
      "metadata": {
        "colab": {
          "base_uri": "https://localhost:8080/",
          "height": 268
        },
        "id": "Uey-lAdd8hf1",
        "outputId": "e9cf3d59-b439-431c-c35a-bb7fc9ea59e8"
      },
      "outputs": [
        {
          "output_type": "display_data",
          "data": {
            "image/png": "[encoded data removed]",
            "text/plain": [
              "<Figure size 432x288 with 1 Axes>"
            ]
          },
          "metadata": {
            "needs_background": "light"
          }
        }
      ],
      "source": [
        "# Visualization of the first image of the first batch\n",
        "image = np.array(train_generator[0][0][0], dtype='float')\n",
        "plt.imshow(image)\n",
        "plt.show()"
      ]
    },
    {
      "cell_type": "code",
      "execution_count": 47,
      "metadata": {
        "id": "JM23vlom8hf3"
      },
      "outputs": [],
      "source": [
        "# MODEL --------------------------------------------------\n",
        "\n",
        "\n",
        "# Convolutional Layers\n",
        "\n",
        "model = Sequential()\n",
        "\n",
        "model.add(Conv2D(32, kernel_size=(3, 3), activation='relu', input_shape=(size, size, 3)))\n",
        "model.add(MaxPooling2D(pool_size=(2, 2)))\n",
        "\n",
        "model.add(Conv2D(128, (3, 3), activation='relu'))\n",
        "model.add(MaxPooling2D(pool_size=(2, 2)))\n",
        "\n",
        "model.add(Conv2D(96, (3, 3), activation='relu'))\n",
        "\n",
        "model.add(Conv2D(64, (5, 5), activation='relu'))\n",
        "\n",
        "\n",
        "# Dense Layers\n",
        "\n",
        "model.add(Flatten())\n",
        "\n",
        "model.add(Dense(64, activation='relu'))\n",
        "model.add(Dense(96, activation='relu'))\n",
        "model.add(Dense(64, activation='relu'))\n",
        "model.add(Dense(32, activation='relu'))\n",
        "model.add(Dense(10, activation='softmax'))\n",
        "\n",
        "model.compile(loss=tensorflow.keras.losses.categorical_crossentropy,\n",
        "              optimizer=tensorflow.keras.optimizers.Adadelta(learning_rate=0.5),\n",
        "              metrics=['accuracy'])"
      ]
    },
    {
      "cell_type": "code",
      "execution_count": 48,
      "metadata": {
        "colab": {
          "base_uri": "https://localhost:8080/"
        },
        "id": "U91bXt8a8hf4",
        "outputId": "579ed03b-6c0a-4fbb-b391-845a3fb621ed"
      },
      "outputs": [
        {
          "output_type": "stream",
          "name": "stdout",
          "text": [
            "Epoch 1/25\n",
            "1067/1067 [==============================] - 41s 37ms/step - loss: 1.6740 - accuracy: 0.3423 - val_loss: 1.1700 - val_accuracy: 0.5502\n",
            "Epoch 2/25\n",
            "1067/1067 [==============================] - 39s 37ms/step - loss: 1.0421 - accuracy: 0.6265 - val_loss: 0.8484 - val_accuracy: 0.6950\n",
            "Epoch 3/25\n",
            "1067/1067 [==============================] - 39s 37ms/step - loss: 0.8476 - accuracy: 0.7001 - val_loss: 0.9134 - val_accuracy: 0.6750\n",
            "Epoch 4/25\n",
            "1067/1067 [==============================] - 39s 37ms/step - loss: 0.7468 - accuracy: 0.7305 - val_loss: 0.6256 - val_accuracy: 0.7797\n",
            "Epoch 5/25\n",
            "1067/1067 [==============================] - 39s 37ms/step - loss: 0.6756 - accuracy: 0.7545 - val_loss: 0.6732 - val_accuracy: 0.7565\n",
            "Epoch 6/25\n",
            "1067/1067 [==============================] - 39s 36ms/step - loss: 0.6174 - accuracy: 0.7826 - val_loss: 0.5249 - val_accuracy: 0.8117\n",
            "Epoch 7/25\n",
            "1067/1067 [==============================] - 39s 37ms/step - loss: 0.5704 - accuracy: 0.7977 - val_loss: 0.5167 - val_accuracy: 0.8158\n",
            "Epoch 8/25\n",
            "1067/1067 [==============================] - 39s 37ms/step - loss: 0.5271 - accuracy: 0.8131 - val_loss: 0.4948 - val_accuracy: 0.8353\n",
            "Epoch 9/25\n",
            "1067/1067 [==============================] - 39s 37ms/step - loss: 0.4944 - accuracy: 0.8284 - val_loss: 0.4875 - val_accuracy: 0.8365\n",
            "Epoch 10/25\n",
            "1067/1067 [==============================] - 39s 37ms/step - loss: 0.4693 - accuracy: 0.8368 - val_loss: 0.4398 - val_accuracy: 0.8420\n",
            "Epoch 11/25\n",
            "1067/1067 [==============================] - 39s 37ms/step - loss: 0.4360 - accuracy: 0.8488 - val_loss: 0.3952 - val_accuracy: 0.8742\n",
            "Epoch 12/25\n",
            "1067/1067 [==============================] - 39s 37ms/step - loss: 0.4160 - accuracy: 0.8594 - val_loss: 0.4039 - val_accuracy: 0.8645\n",
            "Epoch 13/25\n",
            "1067/1067 [==============================] - 39s 36ms/step - loss: 0.3928 - accuracy: 0.8685 - val_loss: 0.4378 - val_accuracy: 0.8428\n",
            "Epoch 14/25\n",
            "1067/1067 [==============================] - 39s 36ms/step - loss: 0.3713 - accuracy: 0.8714 - val_loss: 0.3364 - val_accuracy: 0.8882\n",
            "Epoch 15/25\n",
            "1067/1067 [==============================] - 39s 37ms/step - loss: 0.3506 - accuracy: 0.8834 - val_loss: 0.4083 - val_accuracy: 0.8670\n",
            "Epoch 16/25\n",
            "1067/1067 [==============================] - 41s 38ms/step - loss: 0.3410 - accuracy: 0.8872 - val_loss: 0.3231 - val_accuracy: 0.8982\n",
            "Epoch 17/25\n",
            "1067/1067 [==============================] - 40s 38ms/step - loss: 0.3306 - accuracy: 0.8907 - val_loss: 0.3542 - val_accuracy: 0.8892\n",
            "Epoch 18/25\n",
            "1067/1067 [==============================] - 40s 37ms/step - loss: 0.3074 - accuracy: 0.8972 - val_loss: 0.3510 - val_accuracy: 0.8905\n",
            "Epoch 19/25\n",
            "1067/1067 [==============================] - 40s 37ms/step - loss: 0.2978 - accuracy: 0.9002 - val_loss: 0.3426 - val_accuracy: 0.8957\n",
            "Epoch 20/25\n",
            "1067/1067 [==============================] - 40s 37ms/step - loss: 0.2888 - accuracy: 0.9001 - val_loss: 0.2953 - val_accuracy: 0.9050\n",
            "Epoch 21/25\n",
            "1067/1067 [==============================] - 39s 37ms/step - loss: 0.2855 - accuracy: 0.9068 - val_loss: 0.3295 - val_accuracy: 0.8965\n",
            "Epoch 22/25\n",
            "1067/1067 [==============================] - 39s 37ms/step - loss: 0.2811 - accuracy: 0.9064 - val_loss: 0.2344 - val_accuracy: 0.9233\n",
            "Epoch 23/25\n",
            "1067/1067 [==============================] - 39s 36ms/step - loss: 0.2658 - accuracy: 0.9108 - val_loss: 0.3016 - val_accuracy: 0.9087\n",
            "Epoch 24/25\n",
            "1067/1067 [==============================] - 42s 39ms/step - loss: 0.2574 - accuracy: 0.9151 - val_loss: 0.2434 - val_accuracy: 0.9258\n",
            "Epoch 25/25\n",
            "1067/1067 [==============================] - 39s 37ms/step - loss: 0.2531 - accuracy: 0.9124 - val_loss: 0.2777 - val_accuracy: 0.9047\n"
          ]
        }
      ],
      "source": [
        "# TRAINING --------------------------------------------------\n",
        "\n",
        "epochs = 25\n",
        "\n",
        "early_stop = EarlyStopping(monitor='val_accuracy', mode='max', verbose=1, patience=8, restore_best_weights=True)\n",
        "\n",
        "histogram = model.fit(\n",
        "        train_generator,\n",
        "        validation_data = validation_generator,\n",
        "        epochs=epochs,\n",
        "        callbacks = [early_stop]\n",
        ")"
      ]
    },
    {
      "cell_type": "code",
      "execution_count": 19,
      "metadata": {
        "id": "QA082GH98hf6",
        "colab": {
          "base_uri": "https://localhost:8080/",
          "height": 297
        },
        "outputId": "3a498b9c-abd7-4032-978d-7f254f4db28a"
      },
      "outputs": [
        {
          "output_type": "display_data",
          "data": {
            "image/png": "[encoded data removed]",
            "text/plain": [
              "<Figure size 432x288 with 1 Axes>"
            ]
          },
          "metadata": {
            "needs_background": "light"
          }
        }
      ],
      "source": [
        "# VISUALIZATION OF TRAINING METRICS --------------------------------------------------\n",
        "\n",
        "plt.plot(histogram.history['accuracy'], label='accuracy')\n",
        "plt.plot(histogram.history['val_accuracy'], label='validation accuracy')\n",
        "plt.plot(histogram.history['loss'], label='loss')\n",
        "\n",
        "plt.title('Imágenes Satélite')\n",
        "plt.xlabel('Épocas')\n",
        "plt.legend(loc=\"lower right\")\n",
        "\n",
        "plt.show()"
      ]
    }
  ],
  "metadata": {
    "accelerator": "GPU",
    "colab": {
      "collapsed_sections": [],
      "name": "EuroSAT.ipynb",
      "provenance": []
    },
    "kernelspec": {
      "display_name": "Python 3",
      "language": "python",
      "name": "python3"
    },
    "language_info": {
      "codemirror_mode": {
        "name": "ipython",
        "version": 3
      },
      "file_extension": ".py",
      "mimetype": "text/x-python",
      "name": "python",
      "nbconvert_exporter": "python",
      "pygments_lexer": "ipython3",
      "version": "3.7.12"
    }
  },
  "nbformat": 4,
  "nbformat_minor": 0
}