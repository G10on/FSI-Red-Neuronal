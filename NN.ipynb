{
  "cells": [
    {
      "cell_type": "code",
      "execution_count": 1,
      "metadata": {
        "colab": {
          "base_uri": "https://localhost:8080/"
        },
        "id": "iCiYhdHA8-ev",
        "outputId": "048dd632-13eb-44dc-8d0e-10ca4fb1c583"
      },
      "outputs": [
        {
          "output_type": "stream",
          "name": "stdout",
          "text": [
            "Downloading...\n",
            "From: https://drive.google.com/uc?id=1-ySD5q7lZwgjsYHdbPgbqM7bff0M5MGB\n",
            "To: /content/EuroSAT_dataset.zip\n",
            "100% 69.8M/69.8M [00:00<00:00, 190MB/s]\n"
          ]
        }
      ],
      "source": [
        "\"\"\"\n",
        "  Only execute the commented code in Google Colaboratory to download the dataset in a zip file\n",
        "\"\"\"\n",
        "! gdown --id 1-ySD5q7lZwgjsYHdbPgbqM7bff0M5MGB\n",
        "from zipfile import ZipFile\n",
        "with ZipFile(\"/content/EuroSAT_dataset.zip\", 'r') as zip:\n",
        "  zip.extractall(\"/content/dataset\")"
      ]
    },
    {
      "cell_type": "code",
      "execution_count": 2,
      "metadata": {
        "id": "lH-2VCDZ8hfb"
      },
      "outputs": [],
      "source": [
        "from tensorflow.keras.preprocessing.image import ImageDataGenerator\n",
        "from tensorflow.keras.models import Sequential\n",
        "from tensorflow.keras.layers import Dense, Dropout\n",
        "from tensorflow.keras.layers import Dense, Dropout, Flatten\n",
        "from tensorflow.keras.layers import Conv2D, MaxPooling2D\n",
        "from keras.callbacks import EarlyStopping\n",
        "import tensorflow.keras\n",
        "\n",
        "from matplotlib import pyplot as plt\n",
        "import numpy as np"
      ]
    },
    {
      "cell_type": "code",
      "execution_count": 3,
      "metadata": {
        "id": "J3p5z8U98hfs"
      },
      "outputs": [],
      "source": [
        "size = 64\n",
        "batch_size = 20\n",
        "base_dir = \"/content/dataset/EuroSAT_dataset\"\n",
        "\n",
        "train_data_dir = base_dir\n",
        "validation_data_dir = train_data_dir\n",
        "LABELS = [\"AnnualCrop\", \"Forest\", \"HerbaceousVegetation\", \"Highway\", \"Industrial\", \"Pasture\", \"PermanentCrop\", \"Residential\", \"River\", \"SeaLake\"]"
      ]
    },
    {
      "cell_type": "code",
      "execution_count": 4,
      "metadata": {
        "colab": {
          "base_uri": "https://localhost:8080/"
        },
        "id": "9br4CbOn8hfy",
        "outputId": "fad41653-2625-4f37-f5a0-20a838b98737"
      },
      "outputs": [
        {
          "output_type": "stream",
          "name": "stdout",
          "text": [
            "Found 16000 images belonging to 10 classes.\n",
            "Found 4000 images belonging to 10 classes.\n"
          ]
        }
      ],
      "source": [
        "# DATA SOURCE --------------------------------------------------\n",
        "\n",
        "train_datagen = ImageDataGenerator(\n",
        "        validation_split = 0.2,\n",
        "        rescale=1./255,\n",
        "        rotation_range = 180,\n",
        "        zoom_range = 0.15,\n",
        "        horizontal_flip = True\n",
        ")\n",
        "\n",
        "train_generator = train_datagen.flow_from_directory(\n",
        "        train_data_dir,\n",
        "        target_size=(size, size),\n",
        "        batch_size=batch_size,\n",
        "        class_mode='categorical',\n",
        "        subset = \"training\",\n",
        "        classes = LABELS,\n",
        "        seed = 2022\n",
        ")\n",
        "\n",
        "validation_datagen = ImageDataGenerator(\n",
        "        validation_split = 0.2,\n",
        "        rescale=1./255\n",
        ")\n",
        "\n",
        "validation_generator = validation_datagen.flow_from_directory(\n",
        "        validation_data_dir,\n",
        "        target_size=(size, size),\n",
        "        batch_size=batch_size,\n",
        "        class_mode='categorical',\n",
        "        subset = \"validation\",\n",
        "        classes = LABELS,\n",
        "        seed = 2022\n",
        ")"
      ]
    },
    {
      "cell_type": "code",
      "execution_count": 5,
      "metadata": {
        "colab": {
          "base_uri": "https://localhost:8080/",
          "height": 268
        },
        "id": "Uey-lAdd8hf1",
        "outputId": "b4cf5696-626b-4352-caa4-2c39497b0052"
      },
      "outputs": [
        {
          "output_type": "display_data",
          "data": {
            "image/png": "[encoded data removed]",
            "text/plain": [
              "<Figure size 432x288 with 1 Axes>"
            ]
          },
          "metadata": {
            "needs_background": "light"
          }
        }
      ],
      "source": [
        "# Visualization of the last image of the first batch\n",
        "image = np.array(train_generator[0][0][7], dtype='float')\n",
        "plt.imshow(image)\n",
        "plt.show()"
      ]
    },
    {
      "cell_type": "code",
      "execution_count": 8,
      "metadata": {
        "id": "JM23vlom8hf3"
      },
      "outputs": [],
      "source": [
        "# MODEL --------------------------------------------------\n",
        "\n",
        "model = Sequential()\n",
        "\n",
        "# Convolutional Layers\n",
        "\n",
        "model.add(Conv2D(32, kernel_size=(3, 3),\n",
        "                 activation='relu',\n",
        "                 input_shape=(size, size, 3)))\n",
        "model.add(MaxPooling2D(pool_size=(2, 2)))\n",
        "model.add(Conv2D(128, (3, 3), activation='relu'))\n",
        "model.add(MaxPooling2D(pool_size=(2, 2)))\n",
        "model.add(Conv2D(96, (5, 5), activation='relu'))\n",
        "model.add(Conv2D(64, (3, 3), activation='relu'))\n",
        "\n",
        "# Dense Layers\n",
        "\n",
        "model.add(Flatten())\n",
        "\n",
        "model.add(Dense(96, activation='relu'))\n",
        "model.add(Dropout(0.5))\n",
        "model.add(Dense(128, activation='relu'))\n",
        "model.add(Dense(64, activation='relu'))\n",
        "model.add(Dense(32, activation='relu'))\n",
        "model.add(Dropout(0.2))\n",
        "model.add(Dense(10, activation='softmax'))\n",
        "\n",
        "model.compile(loss=tensorflow.keras.losses.categorical_crossentropy,\n",
        "              optimizer=tensorflow.keras.optimizers.Adadelta(learning_rate=0.5),\n",
        "              metrics=['accuracy'])"
      ]
    },
    {
      "cell_type": "code",
      "execution_count": 9,
      "metadata": {
        "colab": {
          "base_uri": "https://localhost:8080/"
        },
        "id": "U91bXt8a8hf4",
        "outputId": "e1259f6a-08e5-47b3-805b-bc25786a974a"
      },
      "outputs": [
        {
          "output_type": "stream",
          "name": "stdout",
          "text": [
            "Epoch 1/25\n",
            "800/800 [==============================] - 39s 48ms/step - loss: 1.9630 - accuracy: 0.2129 - val_loss: 1.6596 - val_accuracy: 0.3275\n",
            "Epoch 2/25\n",
            "800/800 [==============================] - 39s 48ms/step - loss: 1.5867 - accuracy: 0.3609 - val_loss: 1.2827 - val_accuracy: 0.5450\n",
            "Epoch 3/25\n",
            "800/800 [==============================] - 38s 48ms/step - loss: 1.3512 - accuracy: 0.4782 - val_loss: 1.1646 - val_accuracy: 0.5485\n",
            "Epoch 4/25\n",
            "800/800 [==============================] - 38s 48ms/step - loss: 1.1699 - accuracy: 0.5829 - val_loss: 0.9827 - val_accuracy: 0.6610\n",
            "Epoch 5/25\n",
            "800/800 [==============================] - 38s 48ms/step - loss: 1.0295 - accuracy: 0.6544 - val_loss: 0.7769 - val_accuracy: 0.7402\n",
            "Epoch 6/25\n",
            "800/800 [==============================] - 38s 48ms/step - loss: 0.9578 - accuracy: 0.6807 - val_loss: 0.8253 - val_accuracy: 0.7090\n",
            "Epoch 7/25\n",
            "800/800 [==============================] - 38s 48ms/step - loss: 0.8703 - accuracy: 0.7077 - val_loss: 0.9239 - val_accuracy: 0.7048\n",
            "Epoch 8/25\n",
            "800/800 [==============================] - 38s 47ms/step - loss: 0.8238 - accuracy: 0.7255 - val_loss: 0.8227 - val_accuracy: 0.7088\n",
            "Epoch 9/25\n",
            "800/800 [==============================] - 38s 48ms/step - loss: 0.7769 - accuracy: 0.7424 - val_loss: 0.6002 - val_accuracy: 0.7972\n",
            "Epoch 10/25\n",
            "800/800 [==============================] - 38s 48ms/step - loss: 0.7376 - accuracy: 0.7587 - val_loss: 0.5947 - val_accuracy: 0.7945\n",
            "Epoch 11/25\n",
            "800/800 [==============================] - 38s 47ms/step - loss: 0.6987 - accuracy: 0.7689 - val_loss: 0.5847 - val_accuracy: 0.8102\n",
            "Epoch 12/25\n",
            "800/800 [==============================] - 38s 48ms/step - loss: 0.6611 - accuracy: 0.7841 - val_loss: 0.5789 - val_accuracy: 0.8050\n",
            "Epoch 13/25\n",
            "800/800 [==============================] - 38s 48ms/step - loss: 0.6403 - accuracy: 0.7932 - val_loss: 0.6544 - val_accuracy: 0.7920\n",
            "Epoch 14/25\n",
            "800/800 [==============================] - 38s 48ms/step - loss: 0.6165 - accuracy: 0.8012 - val_loss: 0.6044 - val_accuracy: 0.8008\n",
            "Epoch 15/25\n",
            "800/800 [==============================] - 38s 47ms/step - loss: 0.5769 - accuracy: 0.8163 - val_loss: 0.6222 - val_accuracy: 0.8025\n",
            "Epoch 16/25\n",
            "800/800 [==============================] - 38s 47ms/step - loss: 0.5615 - accuracy: 0.8252 - val_loss: 0.6092 - val_accuracy: 0.7972\n",
            "Epoch 17/25\n",
            "800/800 [==============================] - 38s 47ms/step - loss: 0.5458 - accuracy: 0.8308 - val_loss: 0.5992 - val_accuracy: 0.8075\n",
            "Epoch 18/25\n",
            "800/800 [==============================] - 38s 48ms/step - loss: 0.5242 - accuracy: 0.8396 - val_loss: 0.4625 - val_accuracy: 0.8503\n",
            "Epoch 19/25\n",
            "800/800 [==============================] - 38s 47ms/step - loss: 0.4981 - accuracy: 0.8453 - val_loss: 0.4305 - val_accuracy: 0.8650\n",
            "Epoch 20/25\n",
            "800/800 [==============================] - 38s 48ms/step - loss: 0.4931 - accuracy: 0.8504 - val_loss: 0.4670 - val_accuracy: 0.8662\n",
            "Epoch 21/25\n",
            "800/800 [==============================] - 38s 48ms/step - loss: 0.4744 - accuracy: 0.8545 - val_loss: 0.6040 - val_accuracy: 0.8180\n",
            "Epoch 22/25\n",
            "800/800 [==============================] - 38s 47ms/step - loss: 0.4673 - accuracy: 0.8580 - val_loss: 0.4209 - val_accuracy: 0.8773\n",
            "Epoch 23/25\n",
            "800/800 [==============================] - 38s 47ms/step - loss: 0.4437 - accuracy: 0.8680 - val_loss: 0.4338 - val_accuracy: 0.8680\n",
            "Epoch 24/25\n",
            "800/800 [==============================] - 38s 47ms/step - loss: 0.4352 - accuracy: 0.8666 - val_loss: 0.4529 - val_accuracy: 0.8612\n",
            "Epoch 25/25\n",
            "800/800 [==============================] - 38s 48ms/step - loss: 0.4162 - accuracy: 0.8729 - val_loss: 0.3837 - val_accuracy: 0.8855\n"
          ]
        }
      ],
      "source": [
        "# TRAINING --------------------------------------------------\n",
        "\n",
        "epochs = 25\n",
        "\n",
        "early_stop = EarlyStopping(monitor='val_accuracy', mode='max', verbose=1, patience=8, restore_best_weights=True)\n",
        "\n",
        "histogram = model.fit(\n",
        "        train_generator,\n",
        "        validation_data = validation_generator,\n",
        "        epochs=epochs,\n",
        "        callbacks = [early_stop]\n",
        ")"
      ]
    },
    {
      "cell_type": "code",
      "execution_count": 10,
      "metadata": {
        "id": "QA082GH98hf6",
        "colab": {
          "base_uri": "https://localhost:8080/",
          "height": 297
        },
        "outputId": "b6d09841-94a6-421f-d46b-63b1c9c3ec23"
      },
      "outputs": [
        {
          "output_type": "display_data",
          "data": {
            "image/png": "[encoded data removed]",
            "text/plain": [
              "<Figure size 432x288 with 1 Axes>"
            ]
          },
          "metadata": {
            "needs_background": "light"
          }
        }
      ],
      "source": [
        "# VISUALIZATION OF TRAINING METRICS --------------------------------------------------\n",
        "\n",
        "plt.plot(histogram.history['accuracy'], label='accuracy')\n",
        "plt.plot(histogram.history['val_accuracy'], label='validation accuracy')\n",
        "plt.plot(histogram.history['loss'], label='loss')\n",
        "\n",
        "plt.title('Imágenes Satélite')\n",
        "plt.xlabel('Épocas')\n",
        "plt.legend(loc=\"lower right\")\n",
        "\n",
        "plt.show()"
      ]
    }
  ],
  "metadata": {
    "accelerator": "GPU",
    "colab": {
      "collapsed_sections": [],
      "name": "EuroSAT.ipynb",
      "provenance": []
    },
    "kernelspec": {
      "display_name": "Python 3",
      "language": "python",
      "name": "python3"
    },
    "language_info": {
      "codemirror_mode": {
        "name": "ipython",
        "version": 3
      },
      "file_extension": ".py",
      "mimetype": "text/x-python",
      "name": "python",
      "nbconvert_exporter": "python",
      "pygments_lexer": "ipython3",
      "version": "3.7.12"
    }
  },
  "nbformat": 4,
  "nbformat_minor": 0
}