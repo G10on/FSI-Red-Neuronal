{
  "cells": [
    {
      "cell_type": "code",
      "execution_count": 1,
      "metadata": {
        "colab": {
          "base_uri": "https://localhost:8080/"
        },
        "id": "iCiYhdHA8-ev",
        "outputId": "6f357651-f4f8-4c27-b5dc-8813eff76ec8"
      },
      "outputs": [
        {
          "output_type": "stream",
          "name": "stdout",
          "text": [
            "Downloading...\n",
            "From: https://drive.google.com/uc?id=1-ySD5q7lZwgjsYHdbPgbqM7bff0M5MGB\n",
            "To: /content/EuroSAT_dataset.zip\n",
            "100% 69.8M/69.8M [00:00<00:00, 192MB/s]\n"
          ]
        }
      ],
      "source": [
        "\"\"\"\n",
        "  Only execute the commented code in Google Colaboratory to download the dataset in a zip file\n",
        "\"\"\"\n",
        "! gdown --id 1-ySD5q7lZwgjsYHdbPgbqM7bff0M5MGB\n",
        "from zipfile import ZipFile\n",
        "with ZipFile(\"/content/EuroSAT_dataset.zip\", 'r') as zip:\n",
        "  zip.extractall(\"/content/dataset\")"
      ]
    },
    {
      "cell_type": "code",
      "execution_count": 2,
      "metadata": {
        "id": "lH-2VCDZ8hfb"
      },
      "outputs": [],
      "source": [
        "from tensorflow.keras.preprocessing.image import ImageDataGenerator\n",
        "from tensorflow.keras.models import Sequential\n",
        "from tensorflow.keras.layers import Dense, Dropout\n",
        "from tensorflow.keras.layers import Dense, Dropout, Flatten\n",
        "from tensorflow.keras.layers import Conv2D, MaxPooling2D\n",
        "from keras.callbacks import EarlyStopping\n",
        "import tensorflow.keras\n",
        "\n",
        "from matplotlib import pyplot as plt\n",
        "import numpy as np"
      ]
    },
    {
      "cell_type": "code",
      "execution_count": 19,
      "metadata": {
        "id": "J3p5z8U98hfs"
      },
      "outputs": [],
      "source": [
        "size = 64\n",
        "batch_size = 20\n",
        "base_dir = \"/content/dataset/EuroSAT_dataset\"\n",
        "\n",
        "train_data_dir = base_dir\n",
        "validation_data_dir = train_data_dir\n",
        "LABELS = [\"AnnualCrop\", \"Forest\", \"HerbaceousVegetation\", \"Highway\", \"Industrial\", \"Pasture\", \"PermanentCrop\", \"Residential\", \"River\", \"SeaLake\"]"
      ]
    },
    {
      "cell_type": "code",
      "execution_count": 20,
      "metadata": {
        "colab": {
          "base_uri": "https://localhost:8080/"
        },
        "id": "9br4CbOn8hfy",
        "outputId": "055f51dd-18f0-4ea9-d0c8-cf350169dd78"
      },
      "outputs": [
        {
          "output_type": "stream",
          "name": "stdout",
          "text": [
            "Found 16000 images belonging to 10 classes.\n",
            "Found 4000 images belonging to 10 classes.\n"
          ]
        }
      ],
      "source": [
        "# DATA SOURCE --------------------------------------------------\n",
        "\n",
        "train_datagen = ImageDataGenerator(\n",
        "        validation_split = 0.2,\n",
        "        rescale=1./255,\n",
        "        rotation_range = 180,\n",
        "        zoom_range = 0.15,\n",
        "        horizontal_flip = True\n",
        ")\n",
        "\n",
        "train_generator = train_datagen.flow_from_directory(\n",
        "        train_data_dir,\n",
        "        target_size=(size, size),\n",
        "        batch_size=batch_size,\n",
        "        class_mode='categorical',\n",
        "        subset = \"training\",\n",
        "        classes = LABELS,\n",
        "        seed = 2022\n",
        ")\n",
        "\n",
        "validation_datagen = ImageDataGenerator(\n",
        "        validation_split = 0.2,\n",
        "        rescale=1./255\n",
        ")\n",
        "\n",
        "validation_generator = validation_datagen.flow_from_directory(\n",
        "        validation_data_dir,\n",
        "        target_size=(size, size),\n",
        "        batch_size=batch_size,\n",
        "        class_mode='categorical',\n",
        "        subset = \"validation\",\n",
        "        classes = LABELS,\n",
        "        seed = 2022\n",
        ")"
      ]
    },
    {
      "cell_type": "code",
      "execution_count": 21,
      "metadata": {
        "colab": {
          "base_uri": "https://localhost:8080/",
          "height": 268
        },
        "id": "Uey-lAdd8hf1",
        "outputId": "479cade3-a626-4c5f-ed4a-4b69ef6a8675"
      },
      "outputs": [
        {
          "output_type": "display_data",
          "data": {
            "image/png": "[encoded data removed]",
            "text/plain": [
              "<Figure size 432x288 with 1 Axes>"
            ]
          },
          "metadata": {
            "needs_background": "light"
          }
        }
      ],
      "source": [
        "# Visualization of the last image of the first batch\n",
        "image = np.array(train_generator[0][0][7], dtype='float')\n",
        "plt.imshow(image)\n",
        "plt.show()"
      ]
    },
    {
      "cell_type": "code",
      "execution_count": 22,
      "metadata": {
        "id": "JM23vlom8hf3"
      },
      "outputs": [],
      "source": [
        "# MODEL --------------------------------------------------\n",
        "\n",
        "model = Sequential()\n",
        "model.add(Conv2D(32, kernel_size=(3, 3),\n",
        "                 activation='relu',\n",
        "                 input_shape=(size, size, 3)))\n",
        "model.add(MaxPooling2D(pool_size=(2, 2)))\n",
        "model.add(Conv2D(128, (3, 3), activation='relu'))\n",
        "model.add(MaxPooling2D(pool_size=(2, 2)))\n",
        "model.add(Conv2D(96, (3, 3), activation='relu'))\n",
        "model.add(Conv2D(64, (5, 5), activation='relu'))\n",
        "# model.add(Dropout(0.05))\n",
        "\n",
        "model.add(Flatten())\n",
        "# model.add(Dense(128, activation='relu'))\n",
        "model.add(Dense(64, activation='relu'))\n",
        "# model.add(Dropout(0.5))\n",
        "model.add(Dense(96, activation='relu'))\n",
        "model.add(Dense(64, activation='relu'))\n",
        "model.add(Dense(32, activation='relu'))\n",
        "# model.add(Dropout(0.1))\n",
        "model.add(Dense(10, activation='softmax'))\n",
        "\n",
        "model.compile(loss=tensorflow.keras.losses.categorical_crossentropy,\n",
        "              optimizer=tensorflow.keras.optimizers.Adadelta(learning_rate=0.5),\n",
        "              metrics=['accuracy'])"
      ]
    },
    {
      "cell_type": "code",
      "execution_count": 23,
      "metadata": {
        "colab": {
          "base_uri": "https://localhost:8080/"
        },
        "id": "U91bXt8a8hf4",
        "outputId": "9cedfa95-8f24-461b-f68c-605e626eb1b8"
      },
      "outputs": [
        {
          "output_type": "stream",
          "name": "stdout",
          "text": [
            "Epoch 1/25\n",
            "1067/1067 [==============================] - 42s 39ms/step - loss: 1.8064 - accuracy: 0.2813 - val_loss: 1.3447 - val_accuracy: 0.5207\n",
            "Epoch 2/25\n",
            "1067/1067 [==============================] - 41s 38ms/step - loss: 1.1783 - accuracy: 0.5741 - val_loss: 1.0547 - val_accuracy: 0.6220\n",
            "Epoch 3/25\n",
            "1067/1067 [==============================] - 41s 38ms/step - loss: 0.9314 - accuracy: 0.6699 - val_loss: 0.7674 - val_accuracy: 0.7297\n",
            "Epoch 4/25\n",
            "1067/1067 [==============================] - 40s 38ms/step - loss: 0.8031 - accuracy: 0.7146 - val_loss: 0.8129 - val_accuracy: 0.7007\n",
            "Epoch 5/25\n",
            "1067/1067 [==============================] - 41s 38ms/step - loss: 0.7175 - accuracy: 0.7478 - val_loss: 0.7370 - val_accuracy: 0.7523\n",
            "Epoch 6/25\n",
            "1067/1067 [==============================] - 41s 38ms/step - loss: 0.6492 - accuracy: 0.7666 - val_loss: 0.6733 - val_accuracy: 0.7588\n",
            "Epoch 7/25\n",
            "1067/1067 [==============================] - 41s 39ms/step - loss: 0.6002 - accuracy: 0.7861 - val_loss: 0.5206 - val_accuracy: 0.8123\n",
            "Epoch 8/25\n",
            "1067/1067 [==============================] - 41s 38ms/step - loss: 0.5514 - accuracy: 0.8059 - val_loss: 0.6673 - val_accuracy: 0.7772\n",
            "Epoch 9/25\n",
            "1067/1067 [==============================] - 40s 38ms/step - loss: 0.5124 - accuracy: 0.8186 - val_loss: 0.4270 - val_accuracy: 0.8472\n",
            "Epoch 10/25\n",
            "1067/1067 [==============================] - 41s 38ms/step - loss: 0.4813 - accuracy: 0.8333 - val_loss: 0.4853 - val_accuracy: 0.8270\n",
            "Epoch 11/25\n",
            "1067/1067 [==============================] - 42s 40ms/step - loss: 0.4518 - accuracy: 0.8477 - val_loss: 0.4099 - val_accuracy: 0.8610\n",
            "Epoch 12/25\n",
            "1067/1067 [==============================] - 42s 40ms/step - loss: 0.4312 - accuracy: 0.8541 - val_loss: 0.4585 - val_accuracy: 0.8512\n",
            "Epoch 13/25\n",
            "1067/1067 [==============================] - 40s 38ms/step - loss: 0.4127 - accuracy: 0.8612 - val_loss: 0.5488 - val_accuracy: 0.8227\n",
            "Epoch 14/25\n",
            "1067/1067 [==============================] - 41s 38ms/step - loss: 0.3895 - accuracy: 0.8670 - val_loss: 0.4131 - val_accuracy: 0.8770\n",
            "Epoch 15/25\n",
            "1067/1067 [==============================] - 41s 38ms/step - loss: 0.3742 - accuracy: 0.8725 - val_loss: 0.3820 - val_accuracy: 0.8730\n",
            "Epoch 16/25\n",
            "1067/1067 [==============================] - 40s 38ms/step - loss: 0.3603 - accuracy: 0.8804 - val_loss: 0.3029 - val_accuracy: 0.9015\n",
            "Epoch 17/25\n",
            "1067/1067 [==============================] - 41s 38ms/step - loss: 0.3471 - accuracy: 0.8863 - val_loss: 0.3815 - val_accuracy: 0.8690\n",
            "Epoch 18/25\n",
            "1067/1067 [==============================] - 41s 38ms/step - loss: 0.3332 - accuracy: 0.8898 - val_loss: 0.3561 - val_accuracy: 0.8815\n",
            "Epoch 19/25\n",
            "1067/1067 [==============================] - 41s 39ms/step - loss: 0.3287 - accuracy: 0.8938 - val_loss: 0.3448 - val_accuracy: 0.8930\n",
            "Epoch 20/25\n",
            "1067/1067 [==============================] - 41s 38ms/step - loss: 0.3129 - accuracy: 0.8992 - val_loss: 0.3083 - val_accuracy: 0.8957\n",
            "Epoch 21/25\n",
            "1067/1067 [==============================] - 41s 38ms/step - loss: 0.3149 - accuracy: 0.8984 - val_loss: 0.4196 - val_accuracy: 0.8500\n",
            "Epoch 22/25\n",
            "1067/1067 [==============================] - 41s 39ms/step - loss: 0.3066 - accuracy: 0.9036 - val_loss: 0.4405 - val_accuracy: 0.8775\n",
            "Epoch 23/25\n",
            "1067/1067 [==============================] - 40s 38ms/step - loss: 0.3028 - accuracy: 0.9039 - val_loss: 0.3591 - val_accuracy: 0.8825\n",
            "Epoch 24/25\n",
            "1066/1067 [============================>.] - ETA: 0s - loss: 0.2932 - accuracy: 0.9036Restoring model weights from the end of the best epoch: 16.\n",
            "1067/1067 [==============================] - 40s 38ms/step - loss: 0.2933 - accuracy: 0.9036 - val_loss: 0.4060 - val_accuracy: 0.8792\n",
            "Epoch 00024: early stopping\n"
          ]
        }
      ],
      "source": [
        "# TRAINING --------------------------------------------------\n",
        "\n",
        "epochs = 25\n",
        "\n",
        "early_stop = EarlyStopping(monitor='val_accuracy', mode='max', verbose=1, patience=8, restore_best_weights=True)\n",
        "\n",
        "histogram = model.fit(\n",
        "        train_generator,\n",
        "        validation_data = validation_generator,\n",
        "        epochs=epochs,\n",
        "        callbacks = [early_stop]\n",
        ")"
      ]
    },
    {
      "cell_type": "code",
      "execution_count": 13,
      "metadata": {
        "id": "QA082GH98hf6",
        "colab": {
          "base_uri": "https://localhost:8080/",
          "height": 297
        },
        "outputId": "efa28db9-862d-4b67-ebc1-c8e515aa6844"
      },
      "outputs": [
        {
          "output_type": "display_data",
          "data": {
            "image/png": "[encoded data removed]",
            "text/plain": [
              "<Figure size 432x288 with 1 Axes>"
            ]
          },
          "metadata": {
            "needs_background": "light"
          }
        }
      ],
      "source": [
        "# VISUALIZATION OF TRAINING METRICS --------------------------------------------------\n",
        "\n",
        "plt.plot(histogram.history['accuracy'], label='accuracy')\n",
        "plt.plot(histogram.history['val_accuracy'], label='validation accuracy')\n",
        "plt.plot(histogram.history['loss'], label='loss')\n",
        "\n",
        "plt.title('Imágenes Satélite')\n",
        "plt.xlabel('Épocas')\n",
        "plt.legend(loc=\"lower right\")\n",
        "\n",
        "plt.show()"
      ]
    }
  ],
  "metadata": {
    "accelerator": "GPU",
    "colab": {
      "collapsed_sections": [],
      "name": "EuroSAT.ipynb",
      "provenance": []
    },
    "kernelspec": {
      "display_name": "Python 3",
      "language": "python",
      "name": "python3"
    },
    "language_info": {
      "codemirror_mode": {
        "name": "ipython",
        "version": 3
      },
      "file_extension": ".py",
      "mimetype": "text/x-python",
      "name": "python",
      "nbconvert_exporter": "python",
      "pygments_lexer": "ipython3",
      "version": "3.7.12"
    }
  },
  "nbformat": 4,
  "nbformat_minor": 0
}