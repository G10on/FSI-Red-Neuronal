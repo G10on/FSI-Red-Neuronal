{
  "cells": [
    {
      "cell_type": "code",
      "execution_count": 1,
      "metadata": {
        "colab": {
          "base_uri": "https://localhost:8080/"
        },
        "id": "iCiYhdHA8-ev",
        "outputId": "048dd632-13eb-44dc-8d0e-10ca4fb1c583"
      },
      "outputs": [
        {
          "output_type": "stream",
          "name": "stdout",
          "text": [
            "Downloading...\n",
            "From: https://drive.google.com/uc?id=1-ySD5q7lZwgjsYHdbPgbqM7bff0M5MGB\n",
            "To: /content/EuroSAT_dataset.zip\n",
            "100% 69.8M/69.8M [00:00<00:00, 190MB/s]\n"
          ]
        }
      ],
      "source": [
        "\"\"\"\n",
        "  Only execute the commented code in Google Colaboratory to download the dataset in a zip file\n",
        "\"\"\"\n",
        "! gdown --id 1-ySD5q7lZwgjsYHdbPgbqM7bff0M5MGB\n",
        "from zipfile import ZipFile\n",
        "with ZipFile(\"/content/EuroSAT_dataset.zip\", 'r') as zip:\n",
        "  zip.extractall(\"/content/dataset\")"
      ]
    },
    {
      "cell_type": "code",
      "execution_count": 2,
      "metadata": {
        "id": "lH-2VCDZ8hfb"
      },
      "outputs": [],
      "source": [
        "from tensorflow.keras.preprocessing.image import ImageDataGenerator\n",
        "from tensorflow.keras.models import Sequential\n",
        "from tensorflow.keras.layers import Dense, Dropout\n",
        "from tensorflow.keras.layers import Dense, Dropout, Flatten\n",
        "from tensorflow.keras.layers import Conv2D, MaxPooling2D\n",
        "from keras.callbacks import EarlyStopping\n",
        "import tensorflow.keras\n",
        "\n",
        "from matplotlib import pyplot as plt\n",
        "import numpy as np"
      ]
    },
    {
      "cell_type": "code",
      "execution_count": 17,
      "metadata": {
        "id": "J3p5z8U98hfs"
      },
      "outputs": [],
      "source": [
        "size = 64\n",
        "batch_size = 50\n",
        "base_dir = \"/content/dataset/EuroSAT_dataset\"\n",
        "\n",
        "train_data_dir = base_dir\n",
        "validation_data_dir = train_data_dir\n",
        "LABELS = [\"AnnualCrop\", \"Forest\", \"HerbaceousVegetation\", \"Highway\", \"Industrial\", \"Pasture\", \"PermanentCrop\", \"Residential\", \"River\", \"SeaLake\"]"
      ]
    },
    {
      "cell_type": "code",
      "execution_count": 4,
      "metadata": {
        "colab": {
          "base_uri": "https://localhost:8080/"
        },
        "id": "9br4CbOn8hfy",
        "outputId": "fad41653-2625-4f37-f5a0-20a838b98737"
      },
      "outputs": [
        {
          "output_type": "stream",
          "name": "stdout",
          "text": [
            "Found 16000 images belonging to 10 classes.\n",
            "Found 4000 images belonging to 10 classes.\n"
          ]
        }
      ],
      "source": [
        "# DATA SOURCE --------------------------------------------------\n",
        "\n",
        "train_datagen = ImageDataGenerator(\n",
        "        validation_split = 0.2,\n",
        "        rescale=1./255,\n",
        "        rotation_range = 180,\n",
        "        zoom_range = 0.15,\n",
        "        horizontal_flip = True\n",
        ")\n",
        "\n",
        "train_generator = train_datagen.flow_from_directory(\n",
        "        train_data_dir,\n",
        "        target_size=(size, size),\n",
        "        batch_size=batch_size,\n",
        "        class_mode='categorical',\n",
        "        subset = \"training\",\n",
        "        classes = LABELS,\n",
        "        seed = 2022\n",
        ")\n",
        "\n",
        "validation_datagen = ImageDataGenerator(\n",
        "        validation_split = 0.2,\n",
        "        rescale=1./255\n",
        ")\n",
        "\n",
        "validation_generator = validation_datagen.flow_from_directory(\n",
        "        validation_data_dir,\n",
        "        target_size=(size, size),\n",
        "        batch_size=batch_size,\n",
        "        class_mode='categorical',\n",
        "        subset = \"validation\",\n",
        "        classes = LABELS,\n",
        "        seed = 2022\n",
        ")"
      ]
    },
    {
      "cell_type": "code",
      "execution_count": 5,
      "metadata": {
        "colab": {
          "base_uri": "https://localhost:8080/",
          "height": 268
        },
        "id": "Uey-lAdd8hf1",
        "outputId": "b4cf5696-626b-4352-caa4-2c39497b0052"
      },
      "outputs": [
        {
          "output_type": "display_data",
          "data": {
            "image/png": "[encoded data removed]",
            "text/plain": [
              "<Figure size 432x288 with 1 Axes>"
            ]
          },
          "metadata": {
            "needs_background": "light"
          }
        }
      ],
      "source": [
        "# Visualization of the last image of the first batch\n",
        "image = np.array(train_generator[0][0][7], dtype='float')\n",
        "plt.imshow(image)\n",
        "plt.show()"
      ]
    },
    {
      "cell_type": "code",
      "execution_count": 15,
      "metadata": {
        "id": "JM23vlom8hf3"
      },
      "outputs": [],
      "source": [
        "# MODEL --------------------------------------------------\n",
        "\n",
        "model = Sequential()\n",
        "\n",
        "# Convolutional Layers\n",
        "\n",
        "model.add(Conv2D(32, kernel_size=(3, 3),\n",
        "                 activation='relu',\n",
        "                 input_shape=(size, size, 3)))\n",
        "model.add(MaxPooling2D(pool_size=(2, 2)))\n",
        "model.add(Conv2D(64, (3, 3), activation='relu'))\n",
        "model.add(MaxPooling2D(pool_size=(2, 2)))\n",
        "model.add(Conv2D(128, (3, 3), activation='relu'))\n",
        "model.add(Conv2D(96, (5, 5), activation='relu'))\n",
        "model.add(Conv2D(96, (3, 3), activation='relu'))\n",
        "model.add(Dropout(0.2))\n",
        "\n",
        "# Dense Layers\n",
        "\n",
        "model.add(Flatten())\n",
        "\n",
        "model.add(Dense(96, activation='relu'))\n",
        "model.add(Dropout(0.5))\n",
        "model.add(Dense(128, activation='relu'))\n",
        "model.add(Dense(64, activation='relu'))\n",
        "model.add(Dense(32, activation='relu'))\n",
        "model.add(Dropout(0.2))\n",
        "model.add(Dense(10, activation='softmax'))\n",
        "\n",
        "model.compile(loss=tensorflow.keras.losses.categorical_crossentropy,\n",
        "              optimizer=tensorflow.keras.optimizers.Adadelta(learning_rate=0.6),\n",
        "              metrics=['accuracy'])"
      ]
    },
    {
      "cell_type": "code",
      "execution_count": 16,
      "metadata": {
        "colab": {
          "base_uri": "https://localhost:8080/"
        },
        "id": "U91bXt8a8hf4",
        "outputId": "ced7b629-286d-4654-9d80-82cfd2ad5342"
      },
      "outputs": [
        {
          "output_type": "stream",
          "name": "stdout",
          "text": [
            "Epoch 1/25\n",
            "800/800 [==============================] - 39s 47ms/step - loss: 1.9219 - accuracy: 0.2461 - val_loss: 1.4682 - val_accuracy: 0.3965\n",
            "Epoch 2/25\n",
            "800/800 [==============================] - 38s 47ms/step - loss: 1.4408 - accuracy: 0.4236 - val_loss: 1.1824 - val_accuracy: 0.5475\n",
            "Epoch 3/25\n",
            "800/800 [==============================] - 38s 48ms/step - loss: 1.2243 - accuracy: 0.5399 - val_loss: 1.0142 - val_accuracy: 0.6380\n",
            "Epoch 4/25\n",
            "800/800 [==============================] - 38s 48ms/step - loss: 1.0487 - accuracy: 0.6354 - val_loss: 0.7951 - val_accuracy: 0.7270\n",
            "Epoch 5/25\n",
            "800/800 [==============================] - 38s 48ms/step - loss: 0.9228 - accuracy: 0.6919 - val_loss: 0.7239 - val_accuracy: 0.7513\n",
            "Epoch 6/25\n",
            "800/800 [==============================] - 38s 48ms/step - loss: 0.8616 - accuracy: 0.7172 - val_loss: 0.9011 - val_accuracy: 0.7132\n",
            "Epoch 7/25\n",
            "800/800 [==============================] - 38s 47ms/step - loss: 0.7904 - accuracy: 0.7418 - val_loss: 0.7383 - val_accuracy: 0.7455\n",
            "Epoch 8/25\n",
            "800/800 [==============================] - 38s 48ms/step - loss: 0.7489 - accuracy: 0.7556 - val_loss: 0.5809 - val_accuracy: 0.8043\n",
            "Epoch 9/25\n",
            "800/800 [==============================] - 38s 47ms/step - loss: 0.7072 - accuracy: 0.7704 - val_loss: 0.5474 - val_accuracy: 0.8200\n",
            "Epoch 10/25\n",
            "800/800 [==============================] - 39s 48ms/step - loss: 0.6750 - accuracy: 0.7782 - val_loss: 0.5908 - val_accuracy: 0.8073\n",
            "Epoch 11/25\n",
            "800/800 [==============================] - 39s 49ms/step - loss: 0.6409 - accuracy: 0.7937 - val_loss: 0.4975 - val_accuracy: 0.8350\n",
            "Epoch 12/25\n",
            "800/800 [==============================] - 38s 48ms/step - loss: 0.6123 - accuracy: 0.8043 - val_loss: 0.5864 - val_accuracy: 0.8090\n",
            "Epoch 13/25\n",
            "800/800 [==============================] - 38s 48ms/step - loss: 0.5987 - accuracy: 0.8112 - val_loss: 0.5021 - val_accuracy: 0.8363\n",
            "Epoch 14/25\n",
            "800/800 [==============================] - 38s 47ms/step - loss: 0.5702 - accuracy: 0.8221 - val_loss: 1.1461 - val_accuracy: 0.6842\n",
            "Epoch 15/25\n",
            "800/800 [==============================] - 38s 48ms/step - loss: 0.5627 - accuracy: 0.8224 - val_loss: 0.4867 - val_accuracy: 0.8443\n",
            "Epoch 16/25\n",
            "800/800 [==============================] - 39s 49ms/step - loss: 0.5156 - accuracy: 0.8403 - val_loss: 0.4832 - val_accuracy: 0.8455\n",
            "Epoch 17/25\n",
            "800/800 [==============================] - 38s 48ms/step - loss: 0.5077 - accuracy: 0.8468 - val_loss: 0.4870 - val_accuracy: 0.8468\n",
            "Epoch 18/25\n",
            "800/800 [==============================] - 38s 48ms/step - loss: 0.4912 - accuracy: 0.8488 - val_loss: 0.4509 - val_accuracy: 0.8528\n",
            "Epoch 19/25\n",
            "800/800 [==============================] - 38s 47ms/step - loss: 0.4804 - accuracy: 0.8550 - val_loss: 0.3952 - val_accuracy: 0.8742\n",
            "Epoch 20/25\n",
            "800/800 [==============================] - 38s 47ms/step - loss: 0.4620 - accuracy: 0.8597 - val_loss: 0.3854 - val_accuracy: 0.8740\n",
            "Epoch 21/25\n",
            "800/800 [==============================] - 38s 48ms/step - loss: 0.4520 - accuracy: 0.8637 - val_loss: 0.4243 - val_accuracy: 0.8800\n",
            "Epoch 22/25\n",
            "800/800 [==============================] - 38s 48ms/step - loss: 0.4315 - accuracy: 0.8717 - val_loss: 0.3895 - val_accuracy: 0.8890\n",
            "Epoch 23/25\n",
            "800/800 [==============================] - 38s 47ms/step - loss: 0.4364 - accuracy: 0.8689 - val_loss: 0.4315 - val_accuracy: 0.8788\n",
            "Epoch 24/25\n",
            "800/800 [==============================] - 38s 48ms/step - loss: 0.4179 - accuracy: 0.8751 - val_loss: 0.4291 - val_accuracy: 0.8758\n",
            "Epoch 25/25\n",
            "800/800 [==============================] - 38s 48ms/step - loss: 0.4094 - accuracy: 0.8816 - val_loss: 0.3764 - val_accuracy: 0.8938\n"
          ]
        }
      ],
      "source": [
        "# TRAINING --------------------------------------------------\n",
        "\n",
        "epochs = 25\n",
        "\n",
        "early_stop = EarlyStopping(monitor='val_accuracy', mode='max', verbose=1, patience=8, restore_best_weights=True)\n",
        "\n",
        "histogram = model.fit(\n",
        "        train_generator,\n",
        "        validation_data = validation_generator,\n",
        "        epochs=epochs,\n",
        "        callbacks = [early_stop]\n",
        ")"
      ]
    },
    {
      "cell_type": "code",
      "execution_count": 18,
      "metadata": {
        "id": "QA082GH98hf6",
        "colab": {
          "base_uri": "https://localhost:8080/",
          "height": 297
        },
        "outputId": "92c9363c-1936-4387-ad86-e2ab75495d1c"
      },
      "outputs": [
        {
          "output_type": "display_data",
          "data": {
            "image/png": "[encoded data removed]",
            "text/plain": [
              "<Figure size 432x288 with 1 Axes>"
            ]
          },
          "metadata": {
            "needs_background": "light"
          }
        }
      ],
      "source": [
        "# VISUALIZATION OF TRAINING METRICS --------------------------------------------------\n",
        "\n",
        "plt.plot(histogram.history['accuracy'], label='accuracy')\n",
        "plt.plot(histogram.history['val_accuracy'], label='validation accuracy')\n",
        "plt.plot(histogram.history['loss'], label='loss')\n",
        "\n",
        "plt.title('Imágenes Satélite')\n",
        "plt.xlabel('Épocas')\n",
        "plt.legend(loc=\"lower right\")\n",
        "\n",
        "plt.show()"
      ]
    }
  ],
  "metadata": {
    "accelerator": "GPU",
    "colab": {
      "collapsed_sections": [],
      "name": "EuroSAT.ipynb",
      "provenance": []
    },
    "kernelspec": {
      "display_name": "Python 3",
      "language": "python",
      "name": "python3"
    },
    "language_info": {
      "codemirror_mode": {
        "name": "ipython",
        "version": 3
      },
      "file_extension": ".py",
      "mimetype": "text/x-python",
      "name": "python",
      "nbconvert_exporter": "python",
      "pygments_lexer": "ipython3",
      "version": "3.7.12"
    }
  },
  "nbformat": 4,
  "nbformat_minor": 0
}