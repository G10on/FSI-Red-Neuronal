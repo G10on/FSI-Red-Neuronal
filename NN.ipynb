{
  "cells": [
    {
      "cell_type": "code",
      "execution_count": null,
      "metadata": {
        "colab": {
          "base_uri": "https://localhost:8080/"
        },
        "id": "iCiYhdHA8-ev",
        "outputId": "5efa57ed-a981-480e-84c1-5a6079c156fd"
      },
      "outputs": [
        {
          "output_type": "stream",
          "name": "stdout",
          "text": [
            "Downloading...\n",
            "From: https://drive.google.com/uc?id=1-ySD5q7lZwgjsYHdbPgbqM7bff0M5MGB\n",
            "To: /content/EuroSAT_dataset.zip\n",
            "100% 69.8M/69.8M [00:01<00:00, 45.8MB/s]\n"
          ]
        }
      ],
      "source": [
        "\"\"\"\n",
        "  Only execute the commented code in Google Colaboratory to download the dataset in a zip file\n",
        "\"\"\"\n",
        "! gdown --id 1-ySD5q7lZwgjsYHdbPgbqM7bff0M5MGB\n",
        "from zipfile import ZipFile\n",
        "with ZipFile(\"/content/EuroSAT_dataset.zip\", 'r') as zip:\n",
        "  zip.extractall(\"/content/dataset\")"
      ]
    },
    {
      "cell_type": "code",
      "execution_count": null,
      "metadata": {
        "id": "lH-2VCDZ8hfb"
      },
      "outputs": [],
      "source": [
        "from tensorflow.keras.preprocessing.image import ImageDataGenerator\n",
        "from tensorflow.keras.models import Sequential\n",
        "from tensorflow.keras.layers import Dense, Dropout\n",
        "from tensorflow.keras.layers import Dense, Dropout, Flatten\n",
        "from tensorflow.keras.layers import Conv2D, MaxPooling2D\n",
        "from keras.callbacks import EarlyStopping\n",
        "import tensorflow.keras\n",
        "\n",
        "from matplotlib import pyplot as plt\n",
        "import numpy as np"
      ]
    },
    {
      "cell_type": "code",
      "execution_count": null,
      "metadata": {
        "id": "J3p5z8U98hfs"
      },
      "outputs": [],
      "source": [
        "size = 64\n",
        "batch_size = 15\n",
        "base_dir = \"/content/dataset/EuroSAT_dataset\"\n",
        "\n",
        "train_data_dir = base_dir\n",
        "validation_data_dir = train_data_dir\n",
        "LABELS = [\"AnnualCrop\", \"Forest\", \"HerbaceousVegetation\", \"Highway\", \"Industrial\", \"Pasture\", \"PermanentCrop\", \"Residential\", \"River\", \"SeaLake\"]"
      ]
    },
    {
      "cell_type": "code",
      "execution_count": null,
      "metadata": {
        "colab": {
          "base_uri": "https://localhost:8080/"
        },
        "id": "9br4CbOn8hfy",
        "outputId": "de09eefd-d3e5-4c7b-8afd-8e857e4c29be"
      },
      "outputs": [
        {
          "output_type": "stream",
          "name": "stdout",
          "text": [
            "Found 16000 images belonging to 10 classes.\n",
            "Found 4000 images belonging to 10 classes.\n"
          ]
        }
      ],
      "source": [
        "# DATA SOURCE & AUGMENTATION --------------------------------------------------\n",
        "\n",
        "train_datagen = ImageDataGenerator(\n",
        "        validation_split = 0.2,\n",
        "        rescale=1./255,\n",
        "        rotation_range = 180,\n",
        "        zoom_range = 0.15,\n",
        "        horizontal_flip = True\n",
        ")\n",
        "\n",
        "train_generator = train_datagen.flow_from_directory(\n",
        "        train_data_dir,\n",
        "        target_size=(size, size),\n",
        "        batch_size=batch_size,\n",
        "        class_mode='categorical',\n",
        "        subset = \"training\",\n",
        "        classes = LABELS,\n",
        "        seed = 2022\n",
        ")\n",
        "\n",
        "validation_datagen = ImageDataGenerator(\n",
        "        validation_split = 0.2,\n",
        "        rescale=1./255\n",
        ")\n",
        "\n",
        "validation_generator = validation_datagen.flow_from_directory(\n",
        "        validation_data_dir,\n",
        "        target_size=(size, size),\n",
        "        batch_size=batch_size,\n",
        "        class_mode='categorical',\n",
        "        shuffle = False,\n",
        "        subset = \"validation\",\n",
        "        classes = LABELS,\n",
        "        seed = 2022\n",
        ")"
      ]
    },
    {
      "cell_type": "code",
      "execution_count": null,
      "metadata": {
        "colab": {
          "base_uri": "https://localhost:8080/",
          "height": 268
        },
        "id": "Uey-lAdd8hf1",
        "outputId": "91c989e0-1c92-43c2-d2fb-51db70bb10d4"
      },
      "outputs": [
        {
          "output_type": "display_data",
          "data": {
            "image/png": "[encoded data removed]",
            "text/plain": [
              "<Figure size 432x288 with 1 Axes>"
            ]
          },
          "metadata": {
            "needs_background": "light"
          }
        }
      ],
      "source": [
        "# Visualization of the first image of the first batch\n",
        "image = np.array(train_generator[0][0][0], dtype='float')\n",
        "plt.imshow(image)\n",
        "plt.show()"
      ]
    },
    {
      "cell_type": "code",
      "execution_count": null,
      "metadata": {
        "id": "JM23vlom8hf3"
      },
      "outputs": [],
      "source": [
        "# MODEL --------------------------------------------------\n",
        "\n",
        "\n",
        "# Convolutional Layers\n",
        "\n",
        "model = Sequential()\n",
        "\n",
        "model.add(Conv2D(32, kernel_size=(3, 3), activation='relu', input_shape=(size, size, 3)))\n",
        "model.add(MaxPooling2D(pool_size=(2, 2)))\n",
        "\n",
        "model.add(Conv2D(128, (3, 3), activation='relu'))\n",
        "model.add(MaxPooling2D(pool_size=(2, 2)))\n",
        "\n",
        "model.add(Conv2D(96, (3, 3), activation='relu'))\n",
        "\n",
        "model.add(Conv2D(64, (5, 5), activation='relu'))\n",
        "\n",
        "\n",
        "# Dense Layers\n",
        "\n",
        "model.add(Flatten())\n",
        "\n",
        "model.add(Dense(96, activation='relu'))\n",
        "model.add(Dropout(0.5))\n",
        "model.add(Dense(128, activation='relu'))\n",
        "model.add(Dense(64, activation='relu'))\n",
        "model.add(Dense(32, activation='relu'))\n",
        "model.add(Dropout(0.1))\n",
        "model.add(Dense(10, activation='softmax'))\n",
        "\n",
        "model.compile(loss=tensorflow.keras.losses.categorical_crossentropy,\n",
        "              optimizer=tensorflow.keras.optimizers.Adadelta(learning_rate=0.5),\n",
        "              metrics=['accuracy'])"
      ]
    },
    {
      "cell_type": "code",
      "execution_count": null,
      "metadata": {
        "colab": {
          "base_uri": "https://localhost:8080/"
        },
        "id": "U91bXt8a8hf4",
        "outputId": "85b3cce1-fc16-40fc-cd04-fad093ebc9de"
      },
      "outputs": [
        {
          "output_type": "stream",
          "name": "stdout",
          "text": [
            "Epoch 1/25\n",
            "1067/1067 [==============================] - 29s 27ms/step - loss: 1.8441 - accuracy: 0.2684 - val_loss: 1.3997 - val_accuracy: 0.4392\n",
            "Epoch 2/25\n",
            "1067/1067 [==============================] - 28s 26ms/step - loss: 1.3435 - accuracy: 0.4997 - val_loss: 0.9899 - val_accuracy: 0.6475\n",
            "Epoch 3/25\n",
            "1067/1067 [==============================] - 28s 26ms/step - loss: 1.0591 - accuracy: 0.6403 - val_loss: 0.9087 - val_accuracy: 0.7050\n",
            "Epoch 4/25\n",
            "1067/1067 [==============================] - 28s 26ms/step - loss: 0.9093 - accuracy: 0.6909 - val_loss: 0.9892 - val_accuracy: 0.6668\n",
            "Epoch 5/25\n",
            "1067/1067 [==============================] - 28s 27ms/step - loss: 0.8284 - accuracy: 0.7204 - val_loss: 0.7024 - val_accuracy: 0.7492\n",
            "Epoch 6/25\n",
            "1067/1067 [==============================] - 28s 26ms/step - loss: 0.7729 - accuracy: 0.7432 - val_loss: 0.6552 - val_accuracy: 0.7768\n",
            "Epoch 7/25\n",
            "1067/1067 [==============================] - 29s 27ms/step - loss: 0.7219 - accuracy: 0.7579 - val_loss: 0.6470 - val_accuracy: 0.7903\n",
            "Epoch 8/25\n",
            "1067/1067 [==============================] - 28s 26ms/step - loss: 0.6774 - accuracy: 0.7729 - val_loss: 0.7863 - val_accuracy: 0.7500\n",
            "Epoch 9/25\n",
            "1067/1067 [==============================] - 28s 26ms/step - loss: 0.6533 - accuracy: 0.7837 - val_loss: 0.6931 - val_accuracy: 0.7722\n",
            "Epoch 10/25\n",
            "1067/1067 [==============================] - 28s 26ms/step - loss: 0.6208 - accuracy: 0.7983 - val_loss: 0.5066 - val_accuracy: 0.8288\n",
            "Epoch 11/25\n",
            "1067/1067 [==============================] - 28s 26ms/step - loss: 0.5950 - accuracy: 0.8042 - val_loss: 0.4717 - val_accuracy: 0.8400\n",
            "Epoch 12/25\n",
            "1067/1067 [==============================] - 28s 26ms/step - loss: 0.5824 - accuracy: 0.8124 - val_loss: 0.6340 - val_accuracy: 0.8030\n",
            "Epoch 13/25\n",
            "1067/1067 [==============================] - 28s 26ms/step - loss: 0.5410 - accuracy: 0.8257 - val_loss: 0.4891 - val_accuracy: 0.8353\n",
            "Epoch 14/25\n",
            "1067/1067 [==============================] - 28s 26ms/step - loss: 0.5271 - accuracy: 0.8329 - val_loss: 0.4831 - val_accuracy: 0.8518\n",
            "Epoch 15/25\n",
            "1067/1067 [==============================] - 28s 26ms/step - loss: 0.5095 - accuracy: 0.8399 - val_loss: 0.6569 - val_accuracy: 0.8037\n",
            "Epoch 16/25\n",
            "1067/1067 [==============================] - 28s 26ms/step - loss: 0.4980 - accuracy: 0.8443 - val_loss: 0.3945 - val_accuracy: 0.8790\n",
            "Epoch 17/25\n",
            "1067/1067 [==============================] - 28s 26ms/step - loss: 0.4693 - accuracy: 0.8554 - val_loss: 0.3736 - val_accuracy: 0.8870\n",
            "Epoch 18/25\n",
            "1067/1067 [==============================] - 28s 27ms/step - loss: 0.4694 - accuracy: 0.8576 - val_loss: 0.4498 - val_accuracy: 0.8658\n",
            "Epoch 19/25\n",
            "1067/1067 [==============================] - 28s 26ms/step - loss: 0.4588 - accuracy: 0.8624 - val_loss: 0.3584 - val_accuracy: 0.8870\n",
            "Epoch 20/25\n",
            "1067/1067 [==============================] - 28s 26ms/step - loss: 0.4334 - accuracy: 0.8695 - val_loss: 0.3841 - val_accuracy: 0.8730\n",
            "Epoch 21/25\n",
            "1067/1067 [==============================] - 28s 26ms/step - loss: 0.4194 - accuracy: 0.8753 - val_loss: 0.3732 - val_accuracy: 0.8942\n",
            "Epoch 22/25\n",
            "1067/1067 [==============================] - 28s 26ms/step - loss: 0.4195 - accuracy: 0.8733 - val_loss: 0.3899 - val_accuracy: 0.8798\n",
            "Epoch 23/25\n",
            "1067/1067 [==============================] - 28s 26ms/step - loss: 0.4097 - accuracy: 0.8767 - val_loss: 0.3573 - val_accuracy: 0.8913\n",
            "Epoch 24/25\n",
            "1067/1067 [==============================] - 28s 26ms/step - loss: 0.4025 - accuracy: 0.8825 - val_loss: 0.3980 - val_accuracy: 0.8955\n",
            "Epoch 25/25\n",
            "1067/1067 [==============================] - 28s 26ms/step - loss: 0.4073 - accuracy: 0.8824 - val_loss: 0.5432 - val_accuracy: 0.8468\n"
          ]
        }
      ],
      "source": [
        "# TRAINING --------------------------------------------------\n",
        "\n",
        "epochs = 25\n",
        "\n",
        "early_stop = EarlyStopping(monitor='val_accuracy', mode='max', verbose=1, patience=8, restore_best_weights=True)\n",
        "\n",
        "histogram = model.fit(\n",
        "        train_generator,\n",
        "        validation_data = validation_generator,\n",
        "        epochs=epochs,\n",
        "        callbacks = [early_stop]\n",
        ")"
      ]
    },
    {
      "cell_type": "code",
      "execution_count": null,
      "metadata": {
        "id": "QA082GH98hf6",
        "colab": {
          "base_uri": "https://localhost:8080/",
          "height": 1000
        },
        "outputId": "94b152a5-0e55-4ee0-e061-3e27f86e772b"
      },
      "outputs": [
        {
          "output_type": "display_data",
          "data": {
            "image/png": "[encoded data removed]",
            "text/plain": [
              "<Figure size 432x288 with 1 Axes>"
            ]
          },
          "metadata": {
            "needs_background": "light"
          }
        },
        {
          "output_type": "display_data",
          "data": {
            "image/png": "[encoded data removed]",
            "text/plain": [
              "<Figure size 432x288 with 1 Axes>"
            ]
          },
          "metadata": {
            "needs_background": "light"
          }
        },
        {
          "output_type": "stream",
          "name": "stdout",
          "text": [
            "Model: \"sequential_2\"\n",
            "_________________________________________________________________\n",
            " Layer (type)                Output Shape              Param #   \n",
            "=================================================================\n",
            " conv2d_8 (Conv2D)           (None, 62, 62, 32)        896       \n",
            "                                                                 \n",
            " max_pooling2d_4 (MaxPooling  (None, 31, 31, 32)       0         \n",
            " 2D)                                                             \n",
            "                                                                 \n",
            " conv2d_9 (Conv2D)           (None, 29, 29, 128)       36992     \n",
            "                                                                 \n",
            " max_pooling2d_5 (MaxPooling  (None, 14, 14, 128)      0         \n",
            " 2D)                                                             \n",
            "                                                                 \n",
            " conv2d_10 (Conv2D)          (None, 12, 12, 96)        110688    \n",
            "                                                                 \n",
            " conv2d_11 (Conv2D)          (None, 8, 8, 64)          153664    \n",
            "                                                                 \n",
            " flatten_2 (Flatten)         (None, 4096)              0         \n",
            "                                                                 \n",
            " dense_10 (Dense)            (None, 96)                393312    \n",
            "                                                                 \n",
            " dropout_4 (Dropout)         (None, 96)                0         \n",
            "                                                                 \n",
            " dense_11 (Dense)            (None, 128)               12416     \n",
            "                                                                 \n",
            " dense_12 (Dense)            (None, 64)                8256      \n",
            "                                                                 \n",
            " dense_13 (Dense)            (None, 32)                2080      \n",
            "                                                                 \n",
            " dropout_5 (Dropout)         (None, 32)                0         \n",
            "                                                                 \n",
            " dense_14 (Dense)            (None, 10)                330       \n",
            "                                                                 \n",
            "=================================================================\n",
            "Total params: 718,634\n",
            "Trainable params: 718,634\n",
            "Non-trainable params: 0\n",
            "_________________________________________________________________\n"
          ]
        }
      ],
      "source": [
        "# VISUALIZATION OF TRAINING METRICS --------------------------------------------------\n",
        "\n",
        "plt.plot(histogram.history['accuracy'], label='accuracy')\n",
        "plt.plot(histogram.history['val_accuracy'], label='validation accuracy')\n",
        "\n",
        "plt.title('Imágenes Satélite - Accuracy')\n",
        "plt.xlabel('Épocas')\n",
        "plt.legend(loc=\"lower right\")\n",
        "\n",
        "plt.show()\n",
        "\n",
        "plt.plot(histogram.history['loss'], label='loss')\n",
        "plt.plot(histogram.history['val_loss'], label='validation loss')\n",
        "\n",
        "plt.title('Imágenes Satélite - Loss')\n",
        "plt.xlabel('Épocas')\n",
        "plt.legend(loc=\"upper right\")\n",
        "\n",
        "plt.show()\n",
        "\n",
        "model.summary()"
      ]
    },
    {
      "cell_type": "code",
      "source": [
        "from sklearn.metrics import classification_report, confusion_matrix\n",
        "\n",
        "Y_pred = model.predict(validation_generator, (4000 // batch_size + 1))\n",
        "y_pred = np.argmax(Y_pred, axis=1)\n",
        "print('Confusion Matrix')\n",
        "print(confusion_matrix(validation_generator.classes, y_pred))\n",
        "print('Classification Report')\n",
        "print(classification_report(validation_generator.classes, y_pred, target_names=LABELS))"
      ],
      "metadata": {
        "colab": {
          "base_uri": "https://localhost:8080/"
        },
        "id": "V5JAHm-1h5eT",
        "outputId": "0db4174a-2dc1-4ff6-dfde-aea6a569057f"
      },
      "execution_count": null,
      "outputs": [
        {
          "output_type": "stream",
          "name": "stdout",
          "text": [
            "Confusion Matrix\n",
            "[[303   3   2  31   0  11   4   0  41   5]\n",
            " [  0 399   1   0   0   0   0   0   0   0]\n",
            " [  2  34 278  19  11  20   9  19   8   0]\n",
            " [  2   1   1 360  16   1   1   7  11   0]\n",
            " [  0   0   0   2 385   0   0   9   4   0]\n",
            " [  1  64   3   3   0 320   0   1   8   0]\n",
            " [  8   0  80  45  18   5 223  11  10   0]\n",
            " [  0   0   0   0  10   0   0 390   0   0]\n",
            " [  0   9   3  19   0   9   0   0 360   0]\n",
            " [  1  23   0   0   0   2   0   0   5 369]]\n",
            "Classification Report\n",
            "                      precision    recall  f1-score   support\n",
            "\n",
            "          AnnualCrop       0.96      0.76      0.85       400\n",
            "              Forest       0.75      1.00      0.86       400\n",
            "HerbaceousVegetation       0.76      0.69      0.72       400\n",
            "             Highway       0.75      0.90      0.82       400\n",
            "          Industrial       0.88      0.96      0.92       400\n",
            "             Pasture       0.87      0.80      0.83       400\n",
            "       PermanentCrop       0.94      0.56      0.70       400\n",
            "         Residential       0.89      0.97      0.93       400\n",
            "               River       0.81      0.90      0.85       400\n",
            "             SeaLake       0.99      0.92      0.95       400\n",
            "\n",
            "            accuracy                           0.85      4000\n",
            "           macro avg       0.86      0.85      0.84      4000\n",
            "        weighted avg       0.86      0.85      0.84      4000\n",
            "\n"
          ]
        }
      ]
    }
  ],
  "metadata": {
    "accelerator": "GPU",
    "colab": {
      "collapsed_sections": [],
      "name": "NeuralNetwork2.ipynb",
      "provenance": []
    },
    "kernelspec": {
      "display_name": "Python 3",
      "language": "python",
      "name": "python3"
    },
    "language_info": {
      "codemirror_mode": {
        "name": "ipython",
        "version": 3
      },
      "file_extension": ".py",
      "mimetype": "text/x-python",
      "name": "python",
      "nbconvert_exporter": "python",
      "pygments_lexer": "ipython3",
      "version": "3.7.12"
    }
  },
  "nbformat": 4,
  "nbformat_minor": 0
}